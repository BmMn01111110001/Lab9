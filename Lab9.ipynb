{
 "cells": [
  {
   "cell_type": "markdown",
   "metadata": {
    "colab_type": "text",
    "id": "IuzFDUR3IiXM"
   },
   "source": [
    "# Лабораторын ажил 9"
   ]
  },
  {
   "cell_type": "markdown",
   "metadata": {},
   "source": [
    "## 0. Хэрэгцээтэй сан болон өгөгдлөө бэлтгэх"
   ]
  },
  {
   "cell_type": "code",
   "execution_count": 50,
   "metadata": {},
   "outputs": [
    {
     "name": "stdout",
     "output_type": "stream",
     "text": [
      "Defaulting to user installation because normal site-packages is not writeable\n",
      "Requirement already satisfied: nltk in /home/bmmn/.local/lib/python3.6/site-packages (3.5)\n",
      "Requirement already satisfied: click in /home/bmmn/.local/lib/python3.6/site-packages (from nltk) (7.1.2)\n",
      "Requirement already satisfied: tqdm in /home/bmmn/.local/lib/python3.6/site-packages (from nltk) (4.45.0)\n",
      "Requirement already satisfied: regex in /home/bmmn/.local/lib/python3.6/site-packages (from nltk) (2020.4.4)\n",
      "Requirement already satisfied: joblib in /home/bmmn/.local/lib/python3.6/site-packages (from nltk) (0.14.1)\n"
     ]
    }
   ],
   "source": [
    "!pip install nltk"
   ]
  },
  {
   "cell_type": "code",
   "execution_count": 51,
   "metadata": {},
   "outputs": [
    {
     "name": "stdout",
     "output_type": "stream",
     "text": [
      "Name: scikit-learn\n",
      "Version: 0.22.2.post1\n",
      "Summary: A set of python modules for machine learning and data mining\n",
      "Home-page: http://scikit-learn.org\n",
      "Author: None\n",
      "Author-email: None\n",
      "License: new BSD\n",
      "Location: /home/bmmn/.local/lib/python3.6/site-packages\n",
      "Requires: scipy, joblib, numpy\n",
      "Required-by: \n"
     ]
    }
   ],
   "source": [
    "!pip show scikit-learn"
   ]
  },
  {
   "cell_type": "code",
   "execution_count": 48,
   "metadata": {
    "colab": {
     "base_uri": "https://localhost:8080/",
     "height": 53
    },
    "colab_type": "code",
    "id": "Rx5B_FNVIiXQ",
    "outputId": "31f1aaae-11af-4817-939d-7e2693fefe43"
   },
   "outputs": [
    {
     "name": "stderr",
     "output_type": "stream",
     "text": [
      "[nltk_data] Downloading package punkt to /home/bmmn/nltk_data...\n",
      "[nltk_data]   Package punkt is already up-to-date!\n"
     ]
    }
   ],
   "source": [
    "import pandas as pd\n",
    "import re\n",
    "import string\n",
    "import nltk\n",
    "from sklearn.feature_extraction.text import TfidfVectorizer\n",
    "from sklearn.model_selection import train_test_split\n",
    "from sklearn.feature_selection import chi2\n",
    "nltk.download('punkt')\n",
    "import numpy as np\n",
    "from nltk.tokenize import word_tokenize\n",
    "import csv"
   ]
  },
  {
   "cell_type": "markdown",
   "metadata": {},
   "source": [
    "### 0.1. Өгөгдлөө уншиж авах"
   ]
  },
  {
   "cell_type": "code",
   "execution_count": 4,
   "metadata": {
    "colab": {},
    "colab_type": "code",
    "id": "pLuyiFSvIiXV"
   },
   "outputs": [],
   "source": [
    "csv_file = \"dataset/newsdata - newsdata.csv\"\n"
   ]
  },
  {
   "cell_type": "code",
   "execution_count": 5,
   "metadata": {
    "colab": {},
    "colab_type": "code",
    "id": "B6f1XVpuhyR5"
   },
   "outputs": [],
   "source": [
    "datalist = pd.read_csv(csv_file)"
   ]
  },
  {
   "cell_type": "code",
   "execution_count": 6,
   "metadata": {
    "colab": {},
    "colab_type": "code",
    "id": "7Bz-RLftIiXZ"
   },
   "outputs": [],
   "source": [
    "df = pd.DataFrame(datalist)\n"
   ]
  },
  {
   "cell_type": "code",
   "execution_count": 7,
   "metadata": {
    "colab": {
     "base_uri": "https://localhost:8080/",
     "height": 204
    },
    "colab_type": "code",
    "id": "eEsoETx2IiXc",
    "outputId": "996eb7c9-b4c3-4973-e324-7b3c81a60cc6"
   },
   "outputs": [
    {
     "data": {
      "text/html": [
       "<div>\n",
       "<style scoped>\n",
       "    .dataframe tbody tr th:only-of-type {\n",
       "        vertical-align: middle;\n",
       "    }\n",
       "\n",
       "    .dataframe tbody tr th {\n",
       "        vertical-align: top;\n",
       "    }\n",
       "\n",
       "    .dataframe thead th {\n",
       "        text-align: right;\n",
       "    }\n",
       "</style>\n",
       "<table border=\"1\" class=\"dataframe\">\n",
       "  <thead>\n",
       "    <tr style=\"text-align: right;\">\n",
       "      <th></th>\n",
       "      <th>news</th>\n",
       "      <th>label</th>\n",
       "    </tr>\n",
       "  </thead>\n",
       "  <tbody>\n",
       "    <tr>\n",
       "      <th>0</th>\n",
       "      <td>Хятадын эрдэмтэд Европ, Америкийн зүүн эргээр ...</td>\n",
       "      <td>Дэлхий</td>\n",
       "    </tr>\n",
       "    <tr>\n",
       "      <th>1</th>\n",
       "      <td>Францад есөн настай сурагч хүү хоёрдугаар сард...</td>\n",
       "      <td>Дэлхий</td>\n",
       "    </tr>\n",
       "    <tr>\n",
       "      <th>2</th>\n",
       "      <td>Москвад гуравдугаар сарын дунд үед баригдаж эх...</td>\n",
       "      <td>Дэлхий</td>\n",
       "    </tr>\n",
       "    <tr>\n",
       "      <th>3</th>\n",
       "      <td>Хойд Солонгосын удирдагч Ким Жон Ун мэс засалд...</td>\n",
       "      <td>Дэлхий</td>\n",
       "    </tr>\n",
       "    <tr>\n",
       "      <th>4</th>\n",
       "      <td>ОХУ-д “covid-19” өвчинтэй хүмүүсийг эмчилж бай...</td>\n",
       "      <td>Дэлхий</td>\n",
       "    </tr>\n",
       "  </tbody>\n",
       "</table>\n",
       "</div>"
      ],
      "text/plain": [
       "                                                news   label\n",
       "0  Хятадын эрдэмтэд Европ, Америкийн зүүн эргээр ...  Дэлхий\n",
       "1  Францад есөн настай сурагч хүү хоёрдугаар сард...  Дэлхий\n",
       "2  Москвад гуравдугаар сарын дунд үед баригдаж эх...  Дэлхий\n",
       "3  Хойд Солонгосын удирдагч Ким Жон Ун мэс засалд...  Дэлхий\n",
       "4  ОХУ-д “covid-19” өвчинтэй хүмүүсийг эмчилж бай...  Дэлхий"
      ]
     },
     "execution_count": 7,
     "metadata": {},
     "output_type": "execute_result"
    }
   ],
   "source": [
    "df.head()"
   ]
  },
  {
   "cell_type": "code",
   "execution_count": 8,
   "metadata": {
    "colab": {
     "base_uri": "https://localhost:8080/",
     "height": 55
    },
    "colab_type": "code",
    "id": "cWJfhIhFIiXq",
    "outputId": "1e605831-9d28-4039-8374-ce87c0a7e8ca"
   },
   "outputs": [
    {
     "data": {
      "text/plain": [
       "'Оксфорд их сургуулийн эрдэмтдийн гарган авсан коронавирусийн эсрэг вакциныг маргаашаас (2020.4.23) эхлэн хүн дээр турших талаар Их Британийн Эрүүл мэндийн сайд Матт Ханкок мэдэгджээ. Их сургуулийн эрдэмтдийн багийн гишүүдийн мэдээлснээр вакцины туршилт амжилттай болбол ирэх есдүгээр сараас олон сая тунгаар үйлдвэрлэж эхлэх боломжтой гэж тооцжээ. Коронавирусийн халдварт өвчний эсрэг вакцин гаргахаар олон орны эрдэмтэд цагтай уралдан ажиллаж байгаа ч өнөөдрийн байдлаар олон улсад 175 мянга гаруй хүн хэдийн нас барж, эдийн засгийн том хямрал үүсгээд байна. Их Британийн эрүүл мэндийн сайд хэвлэлийн хурлын үеэр мэдэгдэхдээ вакцин гарган авах ажилд Засгийн газраас гол анхаарлаа хандуулж, Оксфорд их сургуулийн эрдэмтдийн багт 20 сая фунт-стерлингийн санхүүжилт олгожээ. Түүнчлэн Лондон дахь Эзэн хааны коллежийн судалгааны ажилд 22,5 сая фунт-стерлингийг төсөвлөсөн байна. Эх сурвалж: The Independent'"
      ]
     },
     "execution_count": 8,
     "metadata": {},
     "output_type": "execute_result"
    }
   ],
   "source": [
    "df.loc[5]['news']"
   ]
  },
  {
   "cell_type": "markdown",
   "metadata": {
    "colab_type": "text",
    "id": "HgyE7lpMIiXu"
   },
   "source": [
    "## 1. Текст цэвэрлэх, бэлтгэх"
   ]
  },
  {
   "cell_type": "markdown",
   "metadata": {
    "colab_type": "text",
    "id": "M0IanSVRIiXv"
   },
   "source": [
    "### 1.1. Тусгай тэмдэгт цэвэрлэгээ\n"
   ]
  },
  {
   "cell_type": "code",
   "execution_count": 9,
   "metadata": {
    "colab": {},
    "colab_type": "code",
    "id": "qgjWR0YdIiXw"
   },
   "outputs": [],
   "source": [
    "df['Content_Parsed_1'] = df['news'].str.replace(\"\\xa0\", \" \")\n",
    "df['Content_Parsed_1'] = df['Content_Parsed_1'].str.replace(\"\\r\", \" \")\n",
    "df['Content_Parsed_1'] = df['Content_Parsed_1'].str.replace(\"xa07\", \"\")\n",
    "df['Content_Parsed_1'] = df['Content_Parsed_1'].str.replace(\"«\", \"\")\n",
    "df['Content_Parsed_1'] = df['Content_Parsed_1'].str.replace(\"»\", \"\")    \n",
    "df['Content_Parsed_1'] = df['Content_Parsed_1'].str.replace(\"\\n\", \" \")\n",
    "df['Content_Parsed_1'] = df['Content_Parsed_1'].str.replace(\"    \", \" \")\n",
    "df['Content_Parsed_1'] = df['Content_Parsed_1'].str.replace('\"', '')\n",
    "df['Content_Parsed_1'] = df['Content_Parsed_1'].str.replace('(', '')\n",
    "df['Content_Parsed_1'] = df['Content_Parsed_1'].str.replace(')', '')\n",
    "df['Content_Parsed_1'] = df['Content_Parsed_1'].str.replace('”', '')\n",
    "df['Content_Parsed_1'] = df['Content_Parsed_1'].str.replace('“', '')\n",
    "df['Content_Parsed_1'] = df['Content_Parsed_1'].str.replace('-', ' ')"
   ]
  },
  {
   "cell_type": "markdown",
   "metadata": {
    "colab_type": "text",
    "id": "aOrN6U-N0H5N"
   },
   "source": [
    "### Тоо\n"
   ]
  },
  {
   "cell_type": "code",
   "execution_count": null,
   "metadata": {
    "colab": {},
    "colab_type": "code",
    "id": "9KnUntc90E4F"
   },
   "outputs": [],
   "source": [
    "# Хэрэгтэй гэж үзвэл тоонуудыг авч болно.\n",
    "df['Content_Parsed_1'] = df['Content_Parsed_1'].str.replace(\"0\", \"\")\n",
    "df['Content_Parsed_1'] = df['Content_Parsed_1'].str.replace(\"1\", \"\")\n",
    "df['Content_Parsed_1'] = df['Content_Parsed_1'].str.replace(\"2\", \"\")\n",
    "df['Content_Parsed_1'] = df['Content_Parsed_1'].str.replace(\"3\", \"\")\n",
    "df['Content_Parsed_1'] = df['Content_Parsed_1'].str.replace(\"4\", \"\")    \n",
    "df['Content_Parsed_1'] = df['Content_Parsed_1'].str.replace(\"5\", \"\")\n",
    "df['Content_Parsed_1'] = df['Content_Parsed_1'].str.replace(\"6\", \"\")\n",
    "df['Content_Parsed_1'] = df['Content_Parsed_1'].str.replace(\"7\", \"\")\n",
    "df['Content_Parsed_1'] = df['Content_Parsed_1'].str.replace(\"8\", \"\")\n",
    "df['Content_Parsed_1'] = df['Content_Parsed_1'].str.replace(\"9\", \"\")"
   ]
  },
  {
   "cell_type": "markdown",
   "metadata": {
    "colab_type": "text",
    "id": "KiI15AZxIiX6"
   },
   "source": [
    "### 1.2. Том үсгийг жижиг үсэг болгох"
   ]
  },
  {
   "cell_type": "code",
   "execution_count": 10,
   "metadata": {
    "colab": {},
    "colab_type": "code",
    "id": "ieJenn5FIiX7"
   },
   "outputs": [],
   "source": [
    "\n",
    "df['Content_Parsed_2'] = df['Content_Parsed_1'].str.lower()"
   ]
  },
  {
   "cell_type": "markdown",
   "metadata": {
    "colab_type": "text",
    "id": "vBUVDC9tIiX_"
   },
   "source": [
    "### 1.3. Дээрх бүх үйлдлийг нэг дор хийж болох функц\n",
    "\n"
   ]
  },
  {
   "cell_type": "code",
   "execution_count": 11,
   "metadata": {
    "colab": {
     "base_uri": "https://localhost:8080/",
     "height": 35
    },
    "colab_type": "code",
    "id": "oF9ENoYzxPYW",
    "outputId": "3e418cad-a3ec-4618-b63b-137813eaa1c2"
   },
   "outputs": [
    {
     "name": "stdout",
     "output_type": "stream",
     "text": [
      "молобөрйлоб бйроө f\n"
     ]
    }
   ],
   "source": [
    "def clean_text(text):\n",
    "    text = text.lower()\n",
    "    text = re.sub(r'\\[.*?\\]', '', text)\n",
    "    text = re.sub(r'[%s]' % re.escape(string.punctuation), '', text)\n",
    "    text = re.sub(r'\\w*\\d\\w*', '', text)\n",
    "    \n",
    "\n",
    "    if len(text) > 2:\n",
    "        return ' '.join(word for word in text.split())\n",
    "txt = 'молобөрйлоб бйроө (f) ....3.2.1..3.4.!@@#$%^&*(())))))))____+|~``~~|-+*/^%$#@! ?>/.,<:\">:;:\"'''\n",
    "print(clean_text(txt))\n",
    "df['Content_Parsed_3'] = pd.DataFrame(df['Content_Parsed_2'].apply(lambda x: clean_text(x)))\n"
   ]
  },
  {
   "cell_type": "markdown",
   "metadata": {
    "colab_type": "text",
    "id": "8bZB0PkmIiYD"
   },
   "source": [
    "### 1.4. Stop words"
   ]
  },
  {
   "cell_type": "code",
   "execution_count": 12,
   "metadata": {
    "colab": {
     "base_uri": "https://localhost:8080/",
     "height": 35
    },
    "colab_type": "code",
    "id": "URHBe2QZIiYP",
    "outputId": "6ceb4ded-1958-459c-911a-841812b9f8ea",
    "scrolled": true
   },
   "outputs": [
    {
     "data": {
      "text/plain": [
       "'Сайн байна ?'"
      ]
     },
     "execution_count": 12,
     "metadata": {},
     "output_type": "execute_result"
    }
   ],
   "source": [
    "# Stop words устгах regular expression жишээ\n",
    "example = \"Сайн байна уу?\"\n",
    "word = \"уу\"\n",
    "\n",
    "regex = r\"\\b\" + word + r\"\\b\"  \n",
    "\n",
    "re.sub(regex, \"\", example)"
   ]
  },
  {
   "cell_type": "code",
   "execution_count": 14,
   "metadata": {
    "colab": {
     "base_uri": "https://localhost:8080/",
     "height": 35
    },
    "colab_type": "code",
    "id": "WOQXy3gkIiYS",
    "outputId": "0f04ebc7-8132-4cce-8b1c-81f792e434c3"
   },
   "outputs": [
    {
     "name": "stdout",
     "output_type": "stream",
     "text": [
      "Нэр stopwords1.txt\n"
     ]
    }
   ],
   "source": [
    "# Stop words-уудаа уншиж авах\n",
    "import string\n",
    "stopwords = open(\"stopwords1.txt\",\"r\")\n",
    "print (\"Нэр\", stopwords.name)\n",
    "mnstopwords = stopwords.read().split('\\n')\n"
   ]
  },
  {
   "cell_type": "markdown",
   "metadata": {
    "colab_type": "text",
    "id": "EYEdCVFUIiYW"
   },
   "source": [
    "одоо stop words-ийг ялгаж авах боломжтой."
   ]
  },
  {
   "cell_type": "code",
   "execution_count": 15,
   "metadata": {
    "colab": {},
    "colab_type": "code",
    "id": "YYeBuNQWIiYX"
   },
   "outputs": [],
   "source": [
    "# Stop words устгах\n",
    "df['Content_Parsed_4'] = df['Content_Parsed_3']\n",
    "\n",
    "for stop_word in mnstopwords:\n",
    "\n",
    "    regex_stopword = r\"\\b\" + stop_word + r\"\\b\"\n",
    "    df['Content_Parsed_4'] = df['Content_Parsed_4'].str.replace(regex_stopword, '')"
   ]
  },
  {
   "cell_type": "markdown",
   "metadata": {
    "colab_type": "text",
    "id": "i1ZiZ3CrIiYf"
   },
   "source": [
    "### 1.5. Stemming\n"
   ]
  },
  {
   "cell_type": "markdown",
   "metadata": {
    "colab_type": "text",
    "id": "1c-kOo71zAU3"
   },
   "source": [
    "1. Хэрвээ хоосон мөр байвал устгана"
   ]
  },
  {
   "cell_type": "code",
   "execution_count": 16,
   "metadata": {
    "colab": {},
    "colab_type": "code",
    "id": "T5Xbzm15yMKc"
   },
   "outputs": [],
   "source": [
    "df = df.mask(df.astype(object).eq('None')).dropna()\n",
    "df = df.mask(df.astype(object).eq('nan')).dropna()\n",
    "df = df.mask(df.astype(object).eq('NaN')).dropna()\n",
    "df= df.reset_index(drop=True)\n"
   ]
  },
  {
   "cell_type": "code",
   "execution_count": 17,
   "metadata": {
    "colab": {
     "base_uri": "https://localhost:8080/",
     "height": 233
    },
    "colab_type": "code",
    "id": "d_dHGlK8nmzU",
    "outputId": "2681c528-0840-4bd2-b39d-fb8b723bd2c2"
   },
   "outputs": [
    {
     "data": {
      "text/plain": [
       "0      хятадын эрдэмтэд европ америкийн зүүн эргээр т...\n",
       "1      францад есөн настай сурагч хүү хоёрдугаар сард...\n",
       "2      москвад гуравдугаар    баригдаж эхэлсэн халдва...\n",
       "3      хойд солонгосын удирдагч ким жон ун мэс засалд...\n",
       "4      оху  covid өвчинтэй хүмүүсийг эмчилж  бөөрний ...\n",
       "                             ...                        \n",
       "312     баригч намынхан тун овжин аргатай  аливаа асу...\n",
       "313    таны амь  албаны ажлыг хурдан чанартай гүйцэтг...\n",
       "314    британийн загварын зөвлөл хүйсээр ялгасан шоуг...\n",
       "315    корона­вирусийн халдвараас сэргийлэх үүднээс м...\n",
       "316    улсын онцгой комиссоос гарсан шийдвэрийн  тусг...\n",
       "Name: Content_Parsed_4, Length: 317, dtype: object"
      ]
     },
     "execution_count": 17,
     "metadata": {},
     "output_type": "execute_result"
    }
   ],
   "source": [
    "df['Content_Parsed_4'].head(75660)"
   ]
  },
  {
   "cell_type": "markdown",
   "metadata": {
    "colab_type": "text",
    "id": "OKAvGoJmzOh_"
   },
   "source": [
    "2. Stemming\n"
   ]
  },
  {
   "cell_type": "markdown",
   "metadata": {
    "colab_type": "text",
    "id": "ghHPwbTAnPK8"
   },
   "source": [
    "Stemming хийж үгийн төгсгөлийг авч хаяна."
   ]
  },
  {
   "cell_type": "code",
   "execution_count": 18,
   "metadata": {
    "colab": {
     "base_uri": "https://localhost:8080/",
     "height": 35
    },
    "colab_type": "code",
    "id": "_TZzhANryWwi",
    "outputId": "f5debe13-3f9a-43ce-8a14-5fd3b3701a4d"
   },
   "outputs": [
    {
     "name": "stdout",
     "output_type": "stream",
     "text": [
      "шударга өрсөлдөөн хэрэглэгч зуун мускг дуу дүрс чанар шинэчил улс улс ус гараа урлаг\n"
     ]
    }
   ],
   "source": [
    "ignore_words = ['', '-ийн', '-ын','-т', '-тай', '-г','т', '-ийг','-д', '-н', '-ний', '-дээр', 'ч', 'л', 'нь', 'юм', 'бэ', 'вэ', 'юу', 'гэж', 'уу']\n",
    "my_rule_tuple = (\"аа$|ч$|д$|ий$|ыг$|ы$|ийг$|ны$|наас$|ний$|лаа$|лээ$|лоо$|лөө$|даа$|дээ$|доо$|дөө$|уулж$|үүлж$|гдах$|гдэх$|гдох$|гдөх$|лалт$|лэлт$|лолт$|лөлт$|ахад$|дэхэд$|доход$|дөхөд$|уудыг$|үүдийг$|нүүдийг$|нуудыг$|чихлаа$|чихлээ$|чихлоо$|чихлөө$|ид$|ын$|ийн$|уудын$|үүдийн$|тай$|той$|төй$|тэй$|лал$|лэл$|лол$|лөл$|аар$|ээр$|оор$|өөр$|лах$|лэх$|лох$|лөх$|ахад$|эхэд$|оход$|өхөд$|лалд$|лэлд$|лөлд$|лолд$|ууд$|үүд$|даг$|дэг$|дог$|дөг$|ддаг$|ддэг$|ддог$|ддөг$|даж$|дэж$|дож$|дөж$|сэн$|сан$|сөн$|сон$|гах$|гэх$|гох$|гөх$|рах$|рэх$|рох$|рөх$|иас$|иэс$|иос$|иөс$|нд$|нт$|ааж$|ээж$|оож$|өөж$|лаар$|лээр$|лоор$|лөөр$|эг$|ог$|өг$|уг$|өөг$|ээг$|оог$|үүг$|ууг$|бар$|бэр$|бор$|бөр$|бур$|бүр$|раа$|рээ$|рөө$|рүү$|роо$|руу$|аас$|ээс$|оос$|өөс$|аарх$|ээрх$|оорх$|уурх$|үүрх$|өөрх$|аад$|ээд$|ууд$|үүд$|оод$|өөд$|нууд$|нүүд$|дсан$|дсэн$|дсөн$|дсон$|дах$|дэх$|дох$|дөх$|хлаа$|хлээ$|хлоо$|хлөө$|лахдаа$|лэхдээ$|лохдоо$|лөхдөө$|лдаг$|лдэг$|лж$|аагүй$|ээгүй$|оогүй$|өөгүй$|даггүй$|дэггүй$|доггүй$|дөггүй$|нуудийнхаа$|нүүдийнхээ$|гүй$\")\n",
    "stemmer = stem.RegexpStemmer(my_rule_tuple, min = 4)\n",
    "\n",
    "def lemmatizer(text):        \n",
    "    sent = []\n",
    "    tokens = word_tokenize(text)\n",
    "    for word in tokens:\n",
    "      if word not in ignore_words:\n",
    "        sent.append(stemmer.stem(word))\n",
    "    return \" \".join(sent)\n",
    "txt = 'шударга өрсөлдөөн хэрэглэгчийн зуун мускг дуу дүрсний чанартай шинэчиллээ улсын улс усаа гараанаас урлаг'\n",
    "print(lemmatizer(txt))\n",
    "df['Content_Parsed_5'] =  df.apply(lambda x: lemmatizer(x['Content_Parsed_4']), axis=1)"
   ]
  },
  {
   "cell_type": "markdown",
   "metadata": {
    "colab_type": "text",
    "id": "-go2yDgbIiYf"
   },
   "source": [
    "### 1.6. Хийсэн зүйлээ нэгтгэн харцгаая"
   ]
  },
  {
   "cell_type": "code",
   "execution_count": 19,
   "metadata": {
    "colab": {
     "base_uri": "https://localhost:8080/",
     "height": 55
    },
    "colab_type": "code",
    "id": "rSAvby_rIiYg",
    "outputId": "297f2741-e75b-4c3e-bc6b-1cb8e4135fc0"
   },
   "outputs": [
    {
     "data": {
      "text/plain": [
       "'Коронавирусийн халдвараас сэргийлсэн хөл хорионы арга хэмжээнээс шалтгаалан ОХУ-ын дээд шүүх хуралдаанаа онлайнаар явуулахаар шийдвэрлэжээ. Энэ нь Дээд шүүх хуралдаанаа өөр хэлбэрээр хийж байгаа анхны тохиолдол юм. Эхний ээлжинд иргэний хэргийн маргаантай холбоотой шүүх хурлыг онлайнаар хийхээр болсон байна. Нэхэмжлэгч болон хариуцагч талууд гэрээсээ, эсвэл албан өрөөнөөсөө өөр өөрсдийн электрон төхөөрөмжийг ашиглан оролцох ажээ. Шүүх хуралд оролцогч талууд онлайнд хуралд оролцох төлөөлөгчдийн бүрэн эрхтэйг баталгаажуулсан албан бичиг, мөн ашиглах интернэт урсгал нь баталгаат компанийх гэдгийг нотолсон албан бичгийг Дээд шүүхэд ирүүлэх учиртай. Дээд шүүхийн зүгээс эдгээрийн хүлээн авч нягтлаад онлайн шүүх хуралдаанд оролцох эрх үүссэнийг цахим шуудангаар мэдэгдэх ажээ. Энэ хэлбэр нь өнөөгийн үүссэн нөхцөл байдалтай холбоотойгоор бий болж байгаа ч шүүх хуралд биеэр ирж оролцох боломжгүй иргэдийн хувьд хэрэглэж болох арга байхыг үгүйсгэхгүй хэмээн Дээд шүүх үзэж байна. Эх сурвалж: РИА НОВОСТИ'"
      ]
     },
     "execution_count": 19,
     "metadata": {},
     "output_type": "execute_result"
    }
   ],
   "source": [
    "df.loc[6]['news']"
   ]
  },
  {
   "cell_type": "markdown",
   "metadata": {
    "colab_type": "text",
    "id": "AOb1r4YqIiYj"
   },
   "source": [
    "1. Тусгай тэмдэгт цэвэрлэгээ"
   ]
  },
  {
   "cell_type": "code",
   "execution_count": 20,
   "metadata": {
    "colab": {
     "base_uri": "https://localhost:8080/",
     "height": 55
    },
    "colab_type": "code",
    "id": "ZhwdtVzcIiYk",
    "outputId": "311facea-481c-41d2-d140-52ca90f64ef3"
   },
   "outputs": [
    {
     "data": {
      "text/plain": [
       "'Коронавирусийн халдвараас сэргийлсэн хөл хорионы арга хэмжээнээс шалтгаалан ОХУ ын дээд шүүх хуралдаанаа онлайнаар явуулахаар шийдвэрлэжээ. Энэ нь Дээд шүүх хуралдаанаа өөр хэлбэрээр хийж байгаа анхны тохиолдол юм. Эхний ээлжинд иргэний хэргийн маргаантай холбоотой шүүх хурлыг онлайнаар хийхээр болсон байна. Нэхэмжлэгч болон хариуцагч талууд гэрээсээ, эсвэл албан өрөөнөөсөө өөр өөрсдийн электрон төхөөрөмжийг ашиглан оролцох ажээ. Шүүх хуралд оролцогч талууд онлайнд хуралд оролцох төлөөлөгчдийн бүрэн эрхтэйг баталгаажуулсан албан бичиг, мөн ашиглах интернэт урсгал нь баталгаат компанийх гэдгийг нотолсон албан бичгийг Дээд шүүхэд ирүүлэх учиртай. Дээд шүүхийн зүгээс эдгээрийн хүлээн авч нягтлаад онлайн шүүх хуралдаанд оролцох эрх үүссэнийг цахим шуудангаар мэдэгдэх ажээ. Энэ хэлбэр нь өнөөгийн үүссэн нөхцөл байдалтай холбоотойгоор бий болж байгаа ч шүүх хуралд биеэр ирж оролцох боломжгүй иргэдийн хувьд хэрэглэж болох арга байхыг үгүйсгэхгүй хэмээн Дээд шүүх үзэж байна. Эх сурвалж: РИА НОВОСТИ'"
      ]
     },
     "execution_count": 20,
     "metadata": {},
     "output_type": "execute_result"
    }
   ],
   "source": [
    "df.loc[6]['Content_Parsed_1']"
   ]
  },
  {
   "cell_type": "markdown",
   "metadata": {
    "colab_type": "text",
    "id": "HiKBm2cwIiYn"
   },
   "source": [
    "2. Том үсгийг жижиг үсэг болгох"
   ]
  },
  {
   "cell_type": "code",
   "execution_count": 21,
   "metadata": {
    "colab": {
     "base_uri": "https://localhost:8080/",
     "height": 55
    },
    "colab_type": "code",
    "id": "Z3kimOPsIiYo",
    "outputId": "f3b46f19-a3c2-4dc4-a719-b2467779aeb6"
   },
   "outputs": [
    {
     "data": {
      "text/plain": [
       "'коронавирусийн халдвараас сэргийлсэн хөл хорионы арга хэмжээнээс шалтгаалан оху ын дээд шүүх хуралдаанаа онлайнаар явуулахаар шийдвэрлэжээ. энэ нь дээд шүүх хуралдаанаа өөр хэлбэрээр хийж байгаа анхны тохиолдол юм. эхний ээлжинд иргэний хэргийн маргаантай холбоотой шүүх хурлыг онлайнаар хийхээр болсон байна. нэхэмжлэгч болон хариуцагч талууд гэрээсээ, эсвэл албан өрөөнөөсөө өөр өөрсдийн электрон төхөөрөмжийг ашиглан оролцох ажээ. шүүх хуралд оролцогч талууд онлайнд хуралд оролцох төлөөлөгчдийн бүрэн эрхтэйг баталгаажуулсан албан бичиг, мөн ашиглах интернэт урсгал нь баталгаат компанийх гэдгийг нотолсон албан бичгийг дээд шүүхэд ирүүлэх учиртай. дээд шүүхийн зүгээс эдгээрийн хүлээн авч нягтлаад онлайн шүүх хуралдаанд оролцох эрх үүссэнийг цахим шуудангаар мэдэгдэх ажээ. энэ хэлбэр нь өнөөгийн үүссэн нөхцөл байдалтай холбоотойгоор бий болж байгаа ч шүүх хуралд биеэр ирж оролцох боломжгүй иргэдийн хувьд хэрэглэж болох арга байхыг үгүйсгэхгүй хэмээн дээд шүүх үзэж байна. эх сурвалж: риа новости'"
      ]
     },
     "execution_count": 21,
     "metadata": {},
     "output_type": "execute_result"
    }
   ],
   "source": [
    "df.loc[6]['Content_Parsed_2']"
   ]
  },
  {
   "cell_type": "markdown",
   "metadata": {
    "colab_type": "text",
    "id": "ZtHTquL6IiYs"
   },
   "source": [
    "3. Тэмдэгт"
   ]
  },
  {
   "cell_type": "code",
   "execution_count": 22,
   "metadata": {
    "colab": {
     "base_uri": "https://localhost:8080/",
     "height": 55
    },
    "colab_type": "code",
    "id": "6rcEyopoIiYt",
    "outputId": "4a3c43c8-c9cc-44d3-b170-4c5c05c5656a"
   },
   "outputs": [
    {
     "data": {
      "text/plain": [
       "'коронавирусийн халдвараас сэргийлсэн хөл хорионы арга хэмжээнээс шалтгаалан оху ын дээд шүүх хуралдаанаа онлайнаар явуулахаар шийдвэрлэжээ энэ нь дээд шүүх хуралдаанаа өөр хэлбэрээр хийж байгаа анхны тохиолдол юм эхний ээлжинд иргэний хэргийн маргаантай холбоотой шүүх хурлыг онлайнаар хийхээр болсон байна нэхэмжлэгч болон хариуцагч талууд гэрээсээ эсвэл албан өрөөнөөсөө өөр өөрсдийн электрон төхөөрөмжийг ашиглан оролцох ажээ шүүх хуралд оролцогч талууд онлайнд хуралд оролцох төлөөлөгчдийн бүрэн эрхтэйг баталгаажуулсан албан бичиг мөн ашиглах интернэт урсгал нь баталгаат компанийх гэдгийг нотолсон албан бичгийг дээд шүүхэд ирүүлэх учиртай дээд шүүхийн зүгээс эдгээрийн хүлээн авч нягтлаад онлайн шүүх хуралдаанд оролцох эрх үүссэнийг цахим шуудангаар мэдэгдэх ажээ энэ хэлбэр нь өнөөгийн үүссэн нөхцөл байдалтай холбоотойгоор бий болж байгаа ч шүүх хуралд биеэр ирж оролцох боломжгүй иргэдийн хувьд хэрэглэж болох арга байхыг үгүйсгэхгүй хэмээн дээд шүүх үзэж байна эх сурвалж риа новости'"
      ]
     },
     "execution_count": 22,
     "metadata": {},
     "output_type": "execute_result"
    }
   ],
   "source": [
    "df.loc[6]['Content_Parsed_3']"
   ]
  },
  {
   "cell_type": "markdown",
   "metadata": {
    "colab_type": "text",
    "id": "TTVhqci6oHJQ"
   },
   "source": [
    "4. Stop words"
   ]
  },
  {
   "cell_type": "code",
   "execution_count": 23,
   "metadata": {
    "colab": {
     "base_uri": "https://localhost:8080/",
     "height": 55
    },
    "colab_type": "code",
    "id": "6gb3ZJ9vIiYw",
    "outputId": "4863893d-de5e-426e-ce17-5b18e6b2bd57"
   },
   "outputs": [
    {
     "data": {
      "text/plain": [
       "'коронавирусийн халдвараас сэргийлсэн хөл хорионы арга хэмжээнээс шалтгаалан оху   шүүх хуралдаанаа онлайнаар явуулахаар шийдвэрлэжээ    шүүх хуралдаанаа  хэлбэрээр   анхны тохиолдол  эхний ээлжинд иргэний хэргийн маргаантай холбоотой шүүх хурлыг онлайнаар хийхээр   нэхэмжлэгч  хариуцагч талууд гэрээсээ эсвэл албан өрөөнөөсөө  өөрсдийн электрон төхөөрөмжийг ашиглан оролцох ажээ шүүх хуралд оролцогч талууд онлайнд хуралд оролцох төлөөлөгчдийн  эрхтэйг баталгаажуулсан албан бичиг  ашиглах интернэт урсгал  баталгаат компанийх  нотолсон албан бичгийг  шүүхэд ирүүлэх учиртай  шүүхийн зүгээс эдгээрийн   нягтлаад онлайн шүүх хуралдаанд оролцох  үүссэнийг цахим шуудангаар мэдэгдэх ажээ  хэлбэр  өнөөгийн үүссэн нөхцөл байдалтай холбоотойгоор     шүүх хуралд биеэр ирж оролцох боломжгүй иргэдийн  хэрэглэж  арга байхыг үгүйсгэхгүй   шүүх үзэж   сурвалж риа новости'"
      ]
     },
     "execution_count": 23,
     "metadata": {},
     "output_type": "execute_result"
    }
   ],
   "source": [
    "df.loc[6]['Content_Parsed_4']"
   ]
  },
  {
   "cell_type": "markdown",
   "metadata": {
    "colab_type": "text",
    "id": "mDnot0nJoMj4"
   },
   "source": [
    "5. Stemming"
   ]
  },
  {
   "cell_type": "code",
   "execution_count": 24,
   "metadata": {
    "colab": {
     "base_uri": "https://localhost:8080/",
     "height": 55
    },
    "colab_type": "code",
    "id": "ykauZUqgMelf",
    "outputId": "c2dd0b19-4ff8-480f-dc9c-d39dadf5a453"
   },
   "outputs": [
    {
     "data": {
      "text/plain": [
       "'коронавирус халдвар сэргийл хөл хорио арга хэмжээн шалтгаалан оху шүүх хуралдаан онлайн явуулах шийдвэрлэжээ шүүх хуралдаан хэлбэр анх тохиолдол эх ээлжи иргэ хэрг маргаан холбоо шүүх хурл онлайн хийх нэхэмжлэг хариуцаг тал гэрээсээ эсвэл албан өрөөнөөсөө өөрсд электрон төхөөрөмж ашиглан оролцох ажээ шүүх хурал оролцог тал онлай хурал оролцох төлөөлөгчд эрхтэйг баталгаажуул албан бичиг ашиг интернэт урсгал баталгаат компанийх нотол албан бичг шүүхэ ирүү учир шүүх зүг эдгээр нягтл онлайн шүүх хуралдаа оролцох үүссэн цахим шууданг мэдэ ажээ хэл өнөөг үүс нөхцөл байдал холбоотойг шүүх хурал биеэр ирж оролцох боломж иргэд хэрэглэж арга байх үгүйсгэх шүүх үзэж сурва риа новости'"
      ]
     },
     "execution_count": 24,
     "metadata": {},
     "output_type": "execute_result"
    }
   ],
   "source": [
    "df.loc[6]['Content_Parsed_5']"
   ]
  },
  {
   "cell_type": "markdown",
   "metadata": {
    "colab_type": "text",
    "id": "3IbqGUbOIiY2"
   },
   "source": [
    "Эцэст нь завсрын багануудыг устгах хэрэгтэй:"
   ]
  },
  {
   "cell_type": "code",
   "execution_count": 25,
   "metadata": {
    "colab": {
     "base_uri": "https://localhost:8080/",
     "height": 193
    },
    "colab_type": "code",
    "id": "yOSqurQoIiY3",
    "outputId": "3dfd7f04-db0e-4b49-d1b3-baea7c95e2da"
   },
   "outputs": [
    {
     "data": {
      "text/html": [
       "<div>\n",
       "<style scoped>\n",
       "    .dataframe tbody tr th:only-of-type {\n",
       "        vertical-align: middle;\n",
       "    }\n",
       "\n",
       "    .dataframe tbody tr th {\n",
       "        vertical-align: top;\n",
       "    }\n",
       "\n",
       "    .dataframe thead th {\n",
       "        text-align: right;\n",
       "    }\n",
       "</style>\n",
       "<table border=\"1\" class=\"dataframe\">\n",
       "  <thead>\n",
       "    <tr style=\"text-align: right;\">\n",
       "      <th></th>\n",
       "      <th>news</th>\n",
       "      <th>label</th>\n",
       "      <th>Content_Parsed_1</th>\n",
       "      <th>Content_Parsed_2</th>\n",
       "      <th>Content_Parsed_3</th>\n",
       "      <th>Content_Parsed_4</th>\n",
       "      <th>Content_Parsed_5</th>\n",
       "    </tr>\n",
       "  </thead>\n",
       "  <tbody>\n",
       "    <tr>\n",
       "      <th>0</th>\n",
       "      <td>Хятадын эрдэмтэд Европ, Америкийн зүүн эргээр ...</td>\n",
       "      <td>Дэлхий</td>\n",
       "      <td>Хятадын эрдэмтэд Европ, Америкийн зүүн эргээр ...</td>\n",
       "      <td>хятадын эрдэмтэд европ, америкийн зүүн эргээр ...</td>\n",
       "      <td>хятадын эрдэмтэд европ америкийн зүүн эргээр т...</td>\n",
       "      <td>хятадын эрдэмтэд европ америкийн зүүн эргээр т...</td>\n",
       "      <td>хятад эрдэмтэ европ америк зүүн эрг тарх корон...</td>\n",
       "    </tr>\n",
       "    <tr>\n",
       "      <th>1</th>\n",
       "      <td>Францад есөн настай сурагч хүү хоёрдугаар сард...</td>\n",
       "      <td>Дэлхий</td>\n",
       "      <td>Францад есөн настай сурагч хүү хоёрдугаар сард...</td>\n",
       "      <td>францад есөн настай сурагч хүү хоёрдугаар сард...</td>\n",
       "      <td>францад есөн настай сурагч хүү хоёрдугаар сард...</td>\n",
       "      <td>францад есөн настай сурагч хүү хоёрдугаар сард...</td>\n",
       "      <td>франца е нас сураг хүү хоёрдуг сар коронавирус...</td>\n",
       "    </tr>\n",
       "    <tr>\n",
       "      <th>2</th>\n",
       "      <td>Москвад гуравдугаар сарын дунд үед баригдаж эх...</td>\n",
       "      <td>Дэлхий</td>\n",
       "      <td>Москвад гуравдугаар сарын дунд үед баригдаж эх...</td>\n",
       "      <td>москвад гуравдугаар сарын дунд үед баригдаж эх...</td>\n",
       "      <td>москвад гуравдугаар сарын дунд үед баригдаж эх...</td>\n",
       "      <td>москвад гуравдугаар    баригдаж эхэлсэн халдва...</td>\n",
       "      <td>москва гуравдуг бариг эхэл халдварт өвч цоо ши...</td>\n",
       "    </tr>\n",
       "  </tbody>\n",
       "</table>\n",
       "</div>"
      ],
      "text/plain": [
       "                                                news   label  \\\n",
       "0  Хятадын эрдэмтэд Европ, Америкийн зүүн эргээр ...  Дэлхий   \n",
       "1  Францад есөн настай сурагч хүү хоёрдугаар сард...  Дэлхий   \n",
       "2  Москвад гуравдугаар сарын дунд үед баригдаж эх...  Дэлхий   \n",
       "\n",
       "                                    Content_Parsed_1  \\\n",
       "0  Хятадын эрдэмтэд Европ, Америкийн зүүн эргээр ...   \n",
       "1  Францад есөн настай сурагч хүү хоёрдугаар сард...   \n",
       "2  Москвад гуравдугаар сарын дунд үед баригдаж эх...   \n",
       "\n",
       "                                    Content_Parsed_2  \\\n",
       "0  хятадын эрдэмтэд европ, америкийн зүүн эргээр ...   \n",
       "1  францад есөн настай сурагч хүү хоёрдугаар сард...   \n",
       "2  москвад гуравдугаар сарын дунд үед баригдаж эх...   \n",
       "\n",
       "                                    Content_Parsed_3  \\\n",
       "0  хятадын эрдэмтэд европ америкийн зүүн эргээр т...   \n",
       "1  францад есөн настай сурагч хүү хоёрдугаар сард...   \n",
       "2  москвад гуравдугаар сарын дунд үед баригдаж эх...   \n",
       "\n",
       "                                    Content_Parsed_4  \\\n",
       "0  хятадын эрдэмтэд европ америкийн зүүн эргээр т...   \n",
       "1  францад есөн настай сурагч хүү хоёрдугаар сард...   \n",
       "2  москвад гуравдугаар    баригдаж эхэлсэн халдва...   \n",
       "\n",
       "                                    Content_Parsed_5  \n",
       "0  хятад эрдэмтэ европ америк зүүн эрг тарх корон...  \n",
       "1  франца е нас сураг хүү хоёрдуг сар коронавирус...  \n",
       "2  москва гуравдуг бариг эхэл халдварт өвч цоо ши...  "
      ]
     },
     "execution_count": 25,
     "metadata": {},
     "output_type": "execute_result"
    }
   ],
   "source": [
    "df.head(3)"
   ]
  },
  {
   "cell_type": "code",
   "execution_count": 26,
   "metadata": {
    "colab": {},
    "colab_type": "code",
    "id": "AaxlpBKXIiY5"
   },
   "outputs": [],
   "source": [
    "#Stemming хийгээгүй баганыг авлаа\n",
    "list_columns = [ \"news\",\"label\", \"Content_Parsed_4\"]\n",
    "df = df[list_columns]\n",
    "\n",
    "df = df.rename(columns={'Content_Parsed_4': 'news_clean'})"
   ]
  },
  {
   "cell_type": "code",
   "execution_count": 27,
   "metadata": {
    "colab": {
     "base_uri": "https://localhost:8080/",
     "height": 204
    },
    "colab_type": "code",
    "id": "mIPytmIEPMjT",
    "outputId": "965bb863-6ffb-435f-8cf1-ee0dd5eada8d"
   },
   "outputs": [
    {
     "data": {
      "text/html": [
       "<div>\n",
       "<style scoped>\n",
       "    .dataframe tbody tr th:only-of-type {\n",
       "        vertical-align: middle;\n",
       "    }\n",
       "\n",
       "    .dataframe tbody tr th {\n",
       "        vertical-align: top;\n",
       "    }\n",
       "\n",
       "    .dataframe thead th {\n",
       "        text-align: right;\n",
       "    }\n",
       "</style>\n",
       "<table border=\"1\" class=\"dataframe\">\n",
       "  <thead>\n",
       "    <tr style=\"text-align: right;\">\n",
       "      <th></th>\n",
       "      <th>news</th>\n",
       "      <th>label</th>\n",
       "      <th>news_clean</th>\n",
       "    </tr>\n",
       "  </thead>\n",
       "  <tbody>\n",
       "    <tr>\n",
       "      <th>0</th>\n",
       "      <td>Хятадын эрдэмтэд Европ, Америкийн зүүн эргээр ...</td>\n",
       "      <td>Дэлхий</td>\n",
       "      <td>хятадын эрдэмтэд европ америкийн зүүн эргээр т...</td>\n",
       "    </tr>\n",
       "    <tr>\n",
       "      <th>1</th>\n",
       "      <td>Францад есөн настай сурагч хүү хоёрдугаар сард...</td>\n",
       "      <td>Дэлхий</td>\n",
       "      <td>францад есөн настай сурагч хүү хоёрдугаар сард...</td>\n",
       "    </tr>\n",
       "    <tr>\n",
       "      <th>2</th>\n",
       "      <td>Москвад гуравдугаар сарын дунд үед баригдаж эх...</td>\n",
       "      <td>Дэлхий</td>\n",
       "      <td>москвад гуравдугаар    баригдаж эхэлсэн халдва...</td>\n",
       "    </tr>\n",
       "    <tr>\n",
       "      <th>3</th>\n",
       "      <td>Хойд Солонгосын удирдагч Ким Жон Ун мэс засалд...</td>\n",
       "      <td>Дэлхий</td>\n",
       "      <td>хойд солонгосын удирдагч ким жон ун мэс засалд...</td>\n",
       "    </tr>\n",
       "    <tr>\n",
       "      <th>4</th>\n",
       "      <td>ОХУ-д “covid-19” өвчинтэй хүмүүсийг эмчилж бай...</td>\n",
       "      <td>Дэлхий</td>\n",
       "      <td>оху  covid өвчинтэй хүмүүсийг эмчилж  бөөрний ...</td>\n",
       "    </tr>\n",
       "  </tbody>\n",
       "</table>\n",
       "</div>"
      ],
      "text/plain": [
       "                                                news   label  \\\n",
       "0  Хятадын эрдэмтэд Европ, Америкийн зүүн эргээр ...  Дэлхий   \n",
       "1  Францад есөн настай сурагч хүү хоёрдугаар сард...  Дэлхий   \n",
       "2  Москвад гуравдугаар сарын дунд үед баригдаж эх...  Дэлхий   \n",
       "3  Хойд Солонгосын удирдагч Ким Жон Ун мэс засалд...  Дэлхий   \n",
       "4  ОХУ-д “covid-19” өвчинтэй хүмүүсийг эмчилж бай...  Дэлхий   \n",
       "\n",
       "                                          news_clean  \n",
       "0  хятадын эрдэмтэд европ америкийн зүүн эргээр т...  \n",
       "1  францад есөн настай сурагч хүү хоёрдугаар сард...  \n",
       "2  москвад гуравдугаар    баригдаж эхэлсэн халдва...  \n",
       "3  хойд солонгосын удирдагч ким жон ун мэс засалд...  \n",
       "4  оху  covid өвчинтэй хүмүүсийг эмчилж  бөөрний ...  "
      ]
     },
     "execution_count": 27,
     "metadata": {},
     "output_type": "execute_result"
    }
   ],
   "source": [
    "df.head()"
   ]
  },
  {
   "cell_type": "markdown",
   "metadata": {
    "colab_type": "text",
    "id": "Le8tHdVnIiY_"
   },
   "source": [
    "## 2. Label кодлох"
   ]
  },
  {
   "cell_type": "markdown",
   "metadata": {
    "colab_type": "text",
    "id": "CYaq76E-IiZA"
   },
   "source": [
    "Сургалт хийхэд label монгол байх нь заримдаа асуудал үүсгэдэг:"
   ]
  },
  {
   "cell_type": "code",
   "execution_count": 28,
   "metadata": {
    "colab": {},
    "colab_type": "code",
    "id": "AyTwibIaIiZB"
   },
   "outputs": [],
   "source": [
    "label_codes = {\n",
    "    'Эдийн засаг':'economy',\n",
    "    'спорт':'sport',\n",
    "    'улс төр':'politics',\n",
    "    'Дэлхий':'world',\n",
    "    'ЭНТЕРТАЙНМЕНТ':'entertainment',\n",
    "    'Нийгэм':'society',\n",
    "    'Шар мэдээ':'yellowNews'\n",
    "}"
   ]
  },
  {
   "cell_type": "code",
   "execution_count": 29,
   "metadata": {
    "colab": {},
    "colab_type": "code",
    "id": "-0flw_-5IiZE"
   },
   "outputs": [],
   "source": [
    "# Category mapping\n",
    "df['label_Eng'] = df['label']\n",
    "df = df.replace({'label_Eng':label_codes})\n"
   ]
  },
  {
   "cell_type": "code",
   "execution_count": 30,
   "metadata": {
    "colab": {
     "base_uri": "https://localhost:8080/",
     "height": 204
    },
    "colab_type": "code",
    "id": "uvObDRAaIiZG",
    "outputId": "00916b42-7cf4-45a1-e353-8e37033b8372",
    "scrolled": true
   },
   "outputs": [
    {
     "data": {
      "text/html": [
       "<div>\n",
       "<style scoped>\n",
       "    .dataframe tbody tr th:only-of-type {\n",
       "        vertical-align: middle;\n",
       "    }\n",
       "\n",
       "    .dataframe tbody tr th {\n",
       "        vertical-align: top;\n",
       "    }\n",
       "\n",
       "    .dataframe thead th {\n",
       "        text-align: right;\n",
       "    }\n",
       "</style>\n",
       "<table border=\"1\" class=\"dataframe\">\n",
       "  <thead>\n",
       "    <tr style=\"text-align: right;\">\n",
       "      <th></th>\n",
       "      <th>news</th>\n",
       "      <th>label</th>\n",
       "      <th>news_clean</th>\n",
       "      <th>label_Eng</th>\n",
       "    </tr>\n",
       "  </thead>\n",
       "  <tbody>\n",
       "    <tr>\n",
       "      <th>312</th>\n",
       "      <td>Эрх баригч намынхан тун \"овжин\" аргатай нь али...</td>\n",
       "      <td>Шар мэдээ</td>\n",
       "      <td>баригч намынхан тун овжин аргатай  аливаа асу...</td>\n",
       "      <td>yellowNews</td>\n",
       "    </tr>\n",
       "    <tr>\n",
       "      <th>313</th>\n",
       "      <td>Таны амь болон албаны ажлыг хурдан, чанартай ...</td>\n",
       "      <td>Шар мэдээ</td>\n",
       "      <td>таны амь  албаны ажлыг хурдан чанартай гүйцэтг...</td>\n",
       "      <td>yellowNews</td>\n",
       "    </tr>\n",
       "    <tr>\n",
       "      <th>314</th>\n",
       "      <td>Британийн загварын зөвлөл хүйсээр ялгасан шоуг...</td>\n",
       "      <td>Шар мэдээ</td>\n",
       "      <td>британийн загварын зөвлөл хүйсээр ялгасан шоуг...</td>\n",
       "      <td>yellowNews</td>\n",
       "    </tr>\n",
       "    <tr>\n",
       "      <th>315</th>\n",
       "      <td>Корона­вирусийн халдвараас сэргийлэх үүднээс М...</td>\n",
       "      <td>Шар мэдээ</td>\n",
       "      <td>корона­вирусийн халдвараас сэргийлэх үүднээс м...</td>\n",
       "      <td>yellowNews</td>\n",
       "    </tr>\n",
       "    <tr>\n",
       "      <th>316</th>\n",
       "      <td>Улсын онцгой комиссоос гарсан шийдвэрийн дагуу...</td>\n",
       "      <td>Шар мэдээ</td>\n",
       "      <td>улсын онцгой комиссоос гарсан шийдвэрийн  тусг...</td>\n",
       "      <td>yellowNews</td>\n",
       "    </tr>\n",
       "  </tbody>\n",
       "</table>\n",
       "</div>"
      ],
      "text/plain": [
       "                                                  news      label  \\\n",
       "312  Эрх баригч намынхан тун \"овжин\" аргатай нь али...  Шар мэдээ   \n",
       "313   Таны амь болон албаны ажлыг хурдан, чанартай ...  Шар мэдээ   \n",
       "314  Британийн загварын зөвлөл хүйсээр ялгасан шоуг...  Шар мэдээ   \n",
       "315  Корона­вирусийн халдвараас сэргийлэх үүднээс М...  Шар мэдээ   \n",
       "316  Улсын онцгой комиссоос гарсан шийдвэрийн дагуу...  Шар мэдээ   \n",
       "\n",
       "                                            news_clean   label_Eng  \n",
       "312   баригч намынхан тун овжин аргатай  аливаа асу...  yellowNews  \n",
       "313  таны амь  албаны ажлыг хурдан чанартай гүйцэтг...  yellowNews  \n",
       "314  британийн загварын зөвлөл хүйсээр ялгасан шоуг...  yellowNews  \n",
       "315  корона­вирусийн халдвараас сэргийлэх үүднээс м...  yellowNews  \n",
       "316  улсын онцгой комиссоос гарсан шийдвэрийн  тусг...  yellowNews  "
      ]
     },
     "execution_count": 30,
     "metadata": {},
     "output_type": "execute_result"
    }
   ],
   "source": [
    "df.tail()"
   ]
  },
  {
   "cell_type": "markdown",
   "metadata": {
    "colab_type": "text",
    "id": "7QTNmJ7vYO5c"
   },
   "source": [
    "### Csv файл руу хадгалах\n"
   ]
  },
  {
   "cell_type": "code",
   "execution_count": 31,
   "metadata": {
    "colab": {},
    "colab_type": "code",
    "id": "MvdvP0NgcxUx"
   },
   "outputs": [],
   "source": [
    "list_columns = [ \"news_clean\",\"label_Eng\"]\n",
    "df = df[list_columns]"
   ]
  },
  {
   "cell_type": "code",
   "execution_count": 32,
   "metadata": {
    "colab": {
     "base_uri": "https://localhost:8080/",
     "height": 204
    },
    "colab_type": "code",
    "id": "IXB1ZRPDc8GW",
    "outputId": "80e51c13-98fe-4862-b78b-a69448ef9939"
   },
   "outputs": [
    {
     "data": {
      "text/html": [
       "<div>\n",
       "<style scoped>\n",
       "    .dataframe tbody tr th:only-of-type {\n",
       "        vertical-align: middle;\n",
       "    }\n",
       "\n",
       "    .dataframe tbody tr th {\n",
       "        vertical-align: top;\n",
       "    }\n",
       "\n",
       "    .dataframe thead th {\n",
       "        text-align: right;\n",
       "    }\n",
       "</style>\n",
       "<table border=\"1\" class=\"dataframe\">\n",
       "  <thead>\n",
       "    <tr style=\"text-align: right;\">\n",
       "      <th></th>\n",
       "      <th>news_clean</th>\n",
       "      <th>label_Eng</th>\n",
       "    </tr>\n",
       "  </thead>\n",
       "  <tbody>\n",
       "    <tr>\n",
       "      <th>312</th>\n",
       "      <td>баригч намынхан тун овжин аргатай  аливаа асу...</td>\n",
       "      <td>yellowNews</td>\n",
       "    </tr>\n",
       "    <tr>\n",
       "      <th>313</th>\n",
       "      <td>таны амь  албаны ажлыг хурдан чанартай гүйцэтг...</td>\n",
       "      <td>yellowNews</td>\n",
       "    </tr>\n",
       "    <tr>\n",
       "      <th>314</th>\n",
       "      <td>британийн загварын зөвлөл хүйсээр ялгасан шоуг...</td>\n",
       "      <td>yellowNews</td>\n",
       "    </tr>\n",
       "    <tr>\n",
       "      <th>315</th>\n",
       "      <td>корона­вирусийн халдвараас сэргийлэх үүднээс м...</td>\n",
       "      <td>yellowNews</td>\n",
       "    </tr>\n",
       "    <tr>\n",
       "      <th>316</th>\n",
       "      <td>улсын онцгой комиссоос гарсан шийдвэрийн  тусг...</td>\n",
       "      <td>yellowNews</td>\n",
       "    </tr>\n",
       "  </tbody>\n",
       "</table>\n",
       "</div>"
      ],
      "text/plain": [
       "                                            news_clean   label_Eng\n",
       "312   баригч намынхан тун овжин аргатай  аливаа асу...  yellowNews\n",
       "313  таны амь  албаны ажлыг хурдан чанартай гүйцэтг...  yellowNews\n",
       "314  британийн загварын зөвлөл хүйсээр ялгасан шоуг...  yellowNews\n",
       "315  корона­вирусийн халдвараас сэргийлэх үүднээс м...  yellowNews\n",
       "316  улсын онцгой комиссоос гарсан шийдвэрийн  тусг...  yellowNews"
      ]
     },
     "execution_count": 32,
     "metadata": {},
     "output_type": "execute_result"
    }
   ],
   "source": [
    "df.tail()"
   ]
  },
  {
   "cell_type": "code",
   "execution_count": 34,
   "metadata": {
    "colab": {},
    "colab_type": "code",
    "id": "ovZjo2egI7hm"
   },
   "outputs": [],
   "source": [
    "df.to_csv(\"dataset/news.mnCleanData.csv\",index=False)"
   ]
  },
  {
   "cell_type": "code",
   "execution_count": null,
   "metadata": {},
   "outputs": [],
   "source": []
  },
  {
   "cell_type": "markdown",
   "metadata": {
    "colab_type": "text",
    "id": "g1IH1O5PIiZK"
   },
   "source": [
    "## 3. Train - test хэсэгт хуваана"
   ]
  },
  {
   "cell_type": "code",
   "execution_count": 35,
   "metadata": {
    "colab": {},
    "colab_type": "code",
    "id": "hHo29pAUIiZL"
   },
   "outputs": [],
   "source": [
    "X_train, X_test, y_train, y_test = train_test_split(df['news_clean'], \n",
    "                                                    df['label_Eng'], \n",
    "                                                    test_size=0.2, \n",
    "                                                    random_state=8)"
   ]
  },
  {
   "cell_type": "markdown",
   "metadata": {
    "colab_type": "text",
    "id": "P2KNsmldIiZP"
   },
   "source": [
    "## 4. Текстийн дүрслэл"
   ]
  },
  {
   "cell_type": "markdown",
   "metadata": {
    "colab_type": "text",
    "id": "8eDd9ZfoIiZR"
   },
   "source": [
    "Бид TF-IDF Векторуудыг шинж чанар болгон ашиглах болно."
   ]
  },
  {
   "cell_type": "markdown",
   "metadata": {
    "colab_type": "text",
    "id": "2EG0e_-oIiZS"
   },
   "source": [
    "Бид өөр өөр параметрүүдийг тодорхойлох ёстой:\n",
    "\n",
    "* `ngram_range`: Unigram, Bigram, Trigram-ийг авч үзнэ\n",
    "* `max_df`: Үгсийн сан байгуулахдаа баримт бичгийн давтамжийг өгөгдсөн хэмжээнээс хэт өндөр байх нөхцлийг орхино.\n",
    "* `min_df`: Үгсийн сан байгуулахдаа баримт бичгийн давтамжийг өгөгдсөн хэмжээнээс доогуур байгаа нөхцлийг орхино.\n"
   ]
  },
  {
   "cell_type": "code",
   "execution_count": 36,
   "metadata": {
    "colab": {},
    "colab_type": "code",
    "id": "8zbnphGcIiZU"
   },
   "outputs": [],
   "source": [
    "ngram_range = (1,3)\n",
    "min_df = 10\n",
    "max_df = 1.\n",
    "max_features = 1000"
   ]
  },
  {
   "cell_type": "code",
   "execution_count": 37,
   "metadata": {
    "colab": {
     "base_uri": "https://localhost:8080/",
     "height": 53
    },
    "colab_type": "code",
    "id": "Jfdk0I3WIiZX",
    "outputId": "ff6764ac-dcc1-4a9d-9cfd-77658a66ff9d",
    "scrolled": true
   },
   "outputs": [
    {
     "name": "stdout",
     "output_type": "stream",
     "text": [
      "(253, 1000)\n",
      "(64, 1000)\n"
     ]
    }
   ],
   "source": [
    "tfidf = TfidfVectorizer(encoding='utf-8',\n",
    "                        ngram_range=ngram_range,\n",
    "                        stop_words=None,\n",
    "                        lowercase=False,\n",
    "                        max_df=max_df,\n",
    "                        min_df=min_df,\n",
    "                        max_features=max_features,\n",
    "                        norm='l2',\n",
    "                        sublinear_tf=True)\n",
    "                        \n",
    "features_train = tfidf.fit_transform(X_train).toarray()\n",
    "labels_train = y_train\n",
    "print(features_train.shape)\n",
    "\n",
    "features_test = tfidf.transform(X_test).toarray()\n",
    "labels_test = y_test\n",
    "print(features_test.shape)"
   ]
  },
  {
   "cell_type": "code",
   "execution_count": 38,
   "metadata": {
    "colab": {
     "base_uri": "https://localhost:8080/",
     "height": 1000
    },
    "colab_type": "code",
    "id": "_7LLrs8XIiZc",
    "outputId": "6a6b9847-be06-4321-a1b4-d4643f36a989"
   },
   "outputs": [
    {
     "name": "stdout",
     "output_type": "stream",
     "text": [
      "# 'Дэлхий' category:\n",
      "   Хамгийн их хамааралтай unigrams:\n",
      ". түүнчлэн\n",
      ". ану\n",
      ". хүмүүсийн\n",
      ". халдвараар\n",
      ". нас\n",
      "   Хамгийн их хамааралтай bigrams:\n",
      ". ахуйн нэгж\n",
      ". хүн нас\n",
      "   Хамгийн их хамааралтай trigrams:\n",
      ". улсын онцгой комисст\n",
      ". халдварт өвчин судлалын\n",
      "\n",
      "# 'Нийгэм' category:\n",
      "   Хамгийн их хамааралтай unigrams:\n",
      ". нийслэлийн\n",
      ". халдвараас\n",
      ". амны\n",
      ". мэдээлэл\n",
      ". коронавируст\n",
      "   Хамгийн их хамааралтай bigrams:\n",
      ". засаг даргын\n",
      ". эрүүл мэндийн\n",
      "   Хамгийн их хамааралтай trigrams:\n",
      ". дүүргийн эрүүгийн хэргийн\n",
      ". эрүүгийн хэргийн анхан\n",
      "\n",
      "# 'Шар мэдээ' category:\n",
      "   Хамгийн их хамааралтай unigrams:\n",
      ". мэдээлэл\n",
      ". мэдэхгүй\n",
      ". ярьжээ\n",
      ". бичлэг\n",
      ". эмэгтэй\n",
      "   Хамгийн их хамааралтай bigrams:\n",
      ". онцгой комиссын\n",
      ". ахуйн нэгж\n",
      "   Хамгийн их хамааралтай trigrams:\n",
      ". өнгөрсөн долоо хоногт\n",
      ". улсын онцгой комиссын\n",
      "\n",
      "# 'ЭНТЕРТАЙНМЕНТ' category:\n",
      "   Хамгийн их хамааралтай unigrams:\n",
      ". хоног\n",
      ". мэдээлэл\n",
      ". зориг\n",
      ". ардчилсан\n",
      ". уран\n",
      "   Хамгийн их хамааралтай bigrams:\n",
      ". хэргийн анхан\n",
      ". анхан шатны\n",
      "   Хамгийн их хамааралтай trigrams:\n",
      ". захиргааны хэргийн анхан\n",
      ". хэргийн анхан шатны\n",
      "\n",
      "# 'Эдийн засаг' category:\n",
      "   Хамгийн их хамааралтай unigrams:\n",
      ". салбарын\n",
      ". зээлийн\n",
      ". компани\n",
      ". насны\n",
      ". зээл\n",
      "   Хамгийн их хамааралтай bigrams:\n",
      ". гэмт хэргийн\n",
      ". зах зээлийн\n",
      "   Хамгийн их хамааралтай trigrams:\n",
      ". өнгөрсөн долоо хоногт\n",
      ". эрүүл мэндийн төв\n",
      "\n",
      "# 'спорт' category:\n",
      "   Хамгийн их хамааралтай unigrams:\n",
      ". идсэн\n",
      ". идэж\n",
      ". ижил\n",
      ". иймд\n",
      ". зүйлийн\n",
      "   Хамгийн их хамааралтай bigrams:\n",
      ". идэж уусан\n",
      ". өөрөөр хэлбэл\n",
      "   Хамгийн их хамааралтай trigrams:\n",
      ". дүүргийн эрүүгийн хэргийн\n",
      ". ерөнхийлөгчийн тамгын газрын\n",
      "\n",
      "# 'улс төр' category:\n",
      "   Хамгийн их хамааралтай unigrams:\n",
      ". идсэн\n",
      ". идэж\n",
      ". ижил\n",
      ". иймд\n",
      ". зүйлийн\n",
      "   Хамгийн их хамааралтай bigrams:\n",
      ". идэж уусан\n",
      ". өөрөөр хэлбэл\n",
      "   Хамгийн их хамааралтай trigrams:\n",
      ". дүүргийн эрүүгийн хэргийн\n",
      ". ерөнхийлөгчийн тамгын газрын\n",
      "\n"
     ]
    }
   ],
   "source": [
    "from sklearn.feature_selection import chi2\n",
    "import numpy as np\n",
    "\n",
    "for Product, category_id in sorted(label_codes.items()):\n",
    "  features_chi2 = chi2(features_train, labels_train == category_id)\n",
    "  indices = np.argsort(features_chi2[0])\n",
    "  feature_names = np.array(tfidf.get_feature_names())[indices]\n",
    "  unigrams = [v for v in feature_names if len(v.split(' ')) == 1]\n",
    "  bigrams = [v for v in feature_names if len(v.split(' ')) == 2]\n",
    "  trigrams = [v for v in feature_names if len(v.split(' ')) == 3]\n",
    "  print(\"# '{}' category:\".format(Product))\n",
    "  print(\"   Хамгийн их хамааралтай unigrams:\\n. {}\".format('\\n. '.join(unigrams[-5:])))\n",
    "  print(\"   Хамгийн их хамааралтай bigrams:\\n. {}\".format('\\n. '.join(bigrams[-2:])))\n",
    "  print(\"   Хамгийн их хамааралтай trigrams:\\n. {}\".format('\\n. '.join(trigrams[-2:])))\n",
    " \n",
    "  print(\"\")\n"
   ]
  },
  {
   "cell_type": "code",
   "execution_count": 39,
   "metadata": {
    "colab": {
     "base_uri": "https://localhost:8080/",
     "height": 1000
    },
    "colab_type": "code",
    "id": "m3at0ic4IiZf",
    "outputId": "4217499a-2ad8-4af0-dbb9-5d77b5f57a86"
   },
   "outputs": [
    {
     "data": {
      "text/plain": [
       "['хан уул',\n",
       " 'хариу арга',\n",
       " 'урьдчилан сэргийлэх',\n",
       " 'халдвараас урьдчилан',\n",
       " 'халдварт өвчин',\n",
       " 'хуулийн зүйлийн',\n",
       " 'хуулийн төслийг',\n",
       " 'хэргийн анхан',\n",
       " 'хурлын гишүүн',\n",
       " 'улсын хурлын',\n",
       " 'тамгын газрын',\n",
       " 'тусламж үйлчилгээ',\n",
       " 'сонгуулийн хуулийн',\n",
       " 'сэргийлэх арга',\n",
       " 'уих гишүүн',\n",
       " 'улаанбаатар хотод',\n",
       " 'улс төр',\n",
       " 'улс төрд',\n",
       " 'улс төрийн',\n",
       " 'улс төрөөс',\n",
       " 'улсын засгийн',\n",
       " 'улсын онцгой',\n",
       " 'явган зам',\n",
       " 'эмч эмнэлгийн',\n",
       " 'эрүүгийн хэргийн',\n",
       " 'эрүүл аюулгүй',\n",
       " 'эрүүл мэндийн',\n",
       " 'эхний ээлжинд',\n",
       " 'өнгөрсөн долоо',\n",
       " 'өнөөдрийн байдлаар',\n",
       " 'өссөн хүн',\n",
       " 'өвчин судлалын',\n",
       " 'үзэх шалтгаангүйгээр',\n",
       " 'үндсэн хуулийн',\n",
       " 'элчин сайдын',\n",
       " 'хянан шийдвэрлэсэн',\n",
       " 'хянан шийдвэрлэх',\n",
       " 'хүн нас',\n",
       " 'хүндэтгэн үзэх',\n",
       " 'цар тахал',\n",
       " 'цар тахлын',\n",
       " 'шатны шүүх',\n",
       " 'эдийн засаг',\n",
       " 'эдийн засгийн',\n",
       " 'чиг үүрэг',\n",
       " 'бундармаа нарыг',\n",
       " 'баянзүрх дүүргийн',\n",
       " 'ддамба очир',\n",
       " 'долоо хоногт',\n",
       " 'гэмт хэргийн',\n",
       " 'албан ёсны',\n",
       " 'албанаас мэдээллээ',\n",
       " 'албан хаагчид',\n",
       " 'ii iii',\n",
       " 'албадан ирүүлэх',\n",
       " 'анхан шатны',\n",
       " 'байдлыг хангах',\n",
       " 'арга хэмжээ',\n",
       " 'арга хэмжээг',\n",
       " 'арга хэмжээний',\n",
       " 'ахуйн нэгж',\n",
       " 'аюулгүй байдлыг',\n",
       " 'нийслэлийн засаг',\n",
       " 'нийслэлийн прокурорын',\n",
       " 'маргааныг хянан',\n",
       " 'монгол улс',\n",
       " 'монгол улсад',\n",
       " 'монгол улсын',\n",
       " 'мэндийн төв',\n",
       " 'онцгой комисст',\n",
       " 'онцгой комиссын',\n",
       " 'прокурорын газраас',\n",
       " 'онцгой комисс',\n",
       " 'ногоон байгууламж',\n",
       " 'нөгөө талаас',\n",
       " 'нөхцөл байдалд',\n",
       " 'засаг дарга',\n",
       " 'засаг даргын',\n",
       " 'засгийн газар',\n",
       " 'засгийн газраас',\n",
       " 'засгийн газрын',\n",
       " 'зах зээлийн',\n",
       " 'захиргааны хэргийн',\n",
       " 'дүүргийн засаг',\n",
       " 'дүүргийн хэмжээнд',\n",
       " 'дүүргийн эрүүгийн',\n",
       " 'здтг хэвлэл',\n",
       " 'ерөнхий захирал',\n",
       " 'ерөнхий сайд',\n",
       " 'ерөнхийлөгчийн зүгээс',\n",
       " 'ерөнхийлөгчийн тамгын',\n",
       " 'зохион байгуулалтын',\n",
       " 'зохион байгуулах',\n",
       " 'зохион байгуулж',\n",
       " 'идэж уусан',\n",
       " 'өөрөөр хэлбэл']"
      ]
     },
     "execution_count": 39,
     "metadata": {},
     "output_type": "execute_result"
    }
   ],
   "source": [
    "bigrams"
   ]
  },
  {
   "cell_type": "code",
   "execution_count": 40,
   "metadata": {
    "colab": {
     "base_uri": "https://localhost:8080/",
     "height": 1000
    },
    "colab_type": "code",
    "id": "szQinNonyJsL",
    "outputId": "80af315d-93ff-4160-bf20-36124a06dad5"
   },
   "outputs": [
    {
     "data": {
      "text/plain": [
       "['covid',\n",
       " 'хамтдаа',\n",
       " 'хамтран',\n",
       " 'хан',\n",
       " 'хангаж',\n",
       " 'хангалттай',\n",
       " 'хангасан',\n",
       " 'хангах',\n",
       " 'хараад',\n",
       " 'харах',\n",
       " 'харж',\n",
       " 'харилцах',\n",
       " 'хариу',\n",
       " 'хариуцлага',\n",
       " 'харуулж',\n",
       " 'харьцангуй',\n",
       " 'хатуу',\n",
       " 'хийгдэж',\n",
       " 'хийгээд',\n",
       " 'хийдэг',\n",
       " 'хийлээ',\n",
       " 'хийнэ',\n",
       " 'хил',\n",
       " 'хичээл',\n",
       " 'хол',\n",
       " 'холбогдох',\n",
       " 'хамт',\n",
       " 'холбогдуулан',\n",
       " 'хамгаалах',\n",
       " 'хамаагүй',\n",
       " 'уок',\n",
       " 'уран',\n",
       " 'урд',\n",
       " 'урлаг',\n",
       " 'урьдчилан',\n",
       " 'уул',\n",
       " 'уулзаж',\n",
       " 'уулзсан',\n",
       " 'уусан',\n",
       " 'ухаалаг',\n",
       " 'учиртай',\n",
       " 'хаа',\n",
       " 'хаагчид',\n",
       " 'хаана',\n",
       " 'хайртай',\n",
       " 'халдашгүй',\n",
       " 'халдвар',\n",
       " 'халдвараар',\n",
       " 'халдвараас',\n",
       " 'халдварт',\n",
       " 'халдварыг',\n",
       " 'халдварын',\n",
       " 'хамгаалалт',\n",
       " 'холбоотой',\n",
       " 'холбоотойгоор',\n",
       " 'хоног',\n",
       " 'хууль',\n",
       " 'хуульд',\n",
       " 'хэвлэл',\n",
       " 'хэвлэлийн',\n",
       " 'хэдий',\n",
       " 'хэзээ',\n",
       " 'хэлбэл',\n",
       " 'хэлбэрээр',\n",
       " 'хэлж',\n",
       " 'хэлснээр',\n",
       " 'хэлсэн',\n",
       " 'хэлье',\n",
       " 'хэлэлцэн',\n",
       " 'хэлэлцээд',\n",
       " 'хэлэх',\n",
       " 'хэмжээ',\n",
       " 'хэмжээг',\n",
       " 'хэмжээнд',\n",
       " 'хэмжээний',\n",
       " 'хэмээжээ',\n",
       " 'хэмээх',\n",
       " 'хэр',\n",
       " 'хэргийг',\n",
       " 'хэргийн',\n",
       " 'хуулийн',\n",
       " 'хуулийг',\n",
       " 'хуулиар',\n",
       " 'хоногт',\n",
       " 'хоорондын',\n",
       " 'хорио',\n",
       " 'хорооны',\n",
       " 'хот',\n",
       " 'хотод',\n",
       " 'хотын',\n",
       " 'хохирол',\n",
       " 'хоёр',\n",
       " 'хоёрдугаар',\n",
       " 'хувиар',\n",
       " 'хувийг',\n",
       " 'хувцас',\n",
       " 'хувцсыг',\n",
       " 'хугацаа',\n",
       " 'хугацаанд',\n",
       " 'хугацааны',\n",
       " 'худал',\n",
       " 'худалдаж',\n",
       " 'худалдан',\n",
       " 'хурал',\n",
       " 'хуралд',\n",
       " 'хуралдаан',\n",
       " 'хуралдаанаар',\n",
       " 'хуралдаанд',\n",
       " 'хурлыг',\n",
       " 'хурлын',\n",
       " 'хувьдаа',\n",
       " 'талархал',\n",
       " 'талбай',\n",
       " 'тамгын',\n",
       " 'тангараг',\n",
       " 'таны',\n",
       " 'татан',\n",
       " 'татах',\n",
       " 'тахал',\n",
       " 'тахлаас',\n",
       " 'тахлын',\n",
       " 'тоглоом',\n",
       " 'тоглох',\n",
       " 'тогтоож',\n",
       " 'тогтоол',\n",
       " 'тогтоолын',\n",
       " 'тогтоох',\n",
       " 'тодорхойлох',\n",
       " 'толгой',\n",
       " 'томоохон',\n",
       " 'тохиолдол',\n",
       " 'тохиолдолд',\n",
       " 'тусам',\n",
       " 'тусгай',\n",
       " 'тусгайлан',\n",
       " 'тусгасан',\n",
       " 'тусламж',\n",
       " 'талаас',\n",
       " 'талаарх',\n",
       " 'тал',\n",
       " 'сонгуульд',\n",
       " 'спортын',\n",
       " 'судалгаа',\n",
       " 'судлалын',\n",
       " 'сум',\n",
       " 'сурвалж',\n",
       " 'сурвалжууд',\n",
       " 'сургалт',\n",
       " 'сургалтыг',\n",
       " 'сургалтын',\n",
       " 'сургуулийн',\n",
       " 'сургууль',\n",
       " 'суудал',\n",
       " 'сууж',\n",
       " 'суурь',\n",
       " 'суусан',\n",
       " 'сэжигтэй',\n",
       " 'сэргийлэх',\n",
       " 'сэтгэлийн',\n",
       " 'сүүлийн',\n",
       " 'таатай',\n",
       " 'таван',\n",
       " 'тавих',\n",
       " 'тавьж',\n",
       " 'тайлбар',\n",
       " 'талаараа',\n",
       " 'тусмаа',\n",
       " 'тухайлбал',\n",
       " 'тэгвэл',\n",
       " 'төрөл',\n",
       " 'төрөөс',\n",
       " 'төсвийн',\n",
       " 'төслийг',\n",
       " 'төслийн',\n",
       " 'төсөв',\n",
       " 'төсөл',\n",
       " 'төсөлд',\n",
       " 'удаагийн',\n",
       " 'удаан',\n",
       " 'удирдлага',\n",
       " 'уих',\n",
       " 'улаанбаатар',\n",
       " 'улам',\n",
       " 'улмаар',\n",
       " 'улмаас',\n",
       " 'улс',\n",
       " 'улсад',\n",
       " 'улсын',\n",
       " 'төрлийн',\n",
       " 'төрийн',\n",
       " 'төрд',\n",
       " 'төр',\n",
       " 'тэгээд',\n",
       " 'тэдний',\n",
       " 'тэмдэг',\n",
       " 'тэмцэж',\n",
       " 'тэмцэх',\n",
       " 'тэнд',\n",
       " 'тэндээс',\n",
       " 'тэрбум',\n",
       " 'тэрбээр',\n",
       " 'тэргүүн',\n",
       " 'тээврийн',\n",
       " 'түвшин',\n",
       " 'түвшинд',\n",
       " 'түмний',\n",
       " 'түр',\n",
       " 'түүнд',\n",
       " 'түүнтэй',\n",
       " 'түүнчлэн',\n",
       " 'түүх',\n",
       " 'төв',\n",
       " 'төвд',\n",
       " 'төвийн',\n",
       " 'төгрөг',\n",
       " 'төгрөгийн',\n",
       " 'төдийгүй',\n",
       " 'төлөвлөсөн',\n",
       " 'төлөөлөл',\n",
       " 'түмэн',\n",
       " 'сонгуулийн',\n",
       " 'хэргээр',\n",
       " 'хэрэв',\n",
       " 'ээлжинд',\n",
       " 'ээлжит',\n",
       " 'юуны',\n",
       " 'яаж',\n",
       " 'яам',\n",
       " 'яамны',\n",
       " 'яваа',\n",
       " 'явах',\n",
       " 'явган',\n",
       " 'явдал',\n",
       " 'явж',\n",
       " 'явсан',\n",
       " 'явуулах',\n",
       " 'явцад',\n",
       " 'яг',\n",
       " 'ял',\n",
       " 'ялангуяа',\n",
       " 'яллах',\n",
       " 'яригдаж',\n",
       " 'ярьдаг',\n",
       " 'ярьж',\n",
       " 'ярьжээ',\n",
       " 'ёсны',\n",
       " 'ёстой',\n",
       " 'үгийг',\n",
       " 'үгүй',\n",
       " 'эхэлсэн',\n",
       " 'үе',\n",
       " 'эхэлж',\n",
       " 'эхний',\n",
       " 'эмнэлэг',\n",
       " 'эмнэлэгт',\n",
       " 'эмч',\n",
       " 'эмчилгээнд',\n",
       " 'эмчлэх',\n",
       " 'эмэгтэй',\n",
       " 'энд',\n",
       " 'эргэн',\n",
       " 'эрсдэлийг',\n",
       " 'эрсдэлтэй',\n",
       " 'эрхийг',\n",
       " 'эрхийн',\n",
       " 'эрхтэй',\n",
       " 'эрүүгийн',\n",
       " 'эрүүл',\n",
       " 'эсвэл',\n",
       " 'эсрэг',\n",
       " 'эсэх',\n",
       " 'эсэхийг',\n",
       " 'этгээд',\n",
       " 'эхлээд',\n",
       " 'үедээ',\n",
       " 'үеийн',\n",
       " 'үздэг',\n",
       " 'өглөө',\n",
       " 'өгсөн',\n",
       " 'өгч',\n",
       " 'өгөх',\n",
       " 'өдгөө',\n",
       " 'өдрийн',\n",
       " 'өдрөөс',\n",
       " 'өдөр',\n",
       " 'өдөрт',\n",
       " 'өмнөөс',\n",
       " 'өнгөрсөн',\n",
       " 'өнөөгийн',\n",
       " 'өнөөдрийн',\n",
       " 'өнөөдөр',\n",
       " 'өргөн',\n",
       " 'өрхийн',\n",
       " 'өссөн',\n",
       " 'өөрийгөө',\n",
       " 'өөрийнхөө',\n",
       " 'өөрсдийгөө',\n",
       " 'өөрсдийн',\n",
       " 'өөрчлөлт',\n",
       " 'өөрөө',\n",
       " 'өвчин',\n",
       " 'үүсгэсэн',\n",
       " 'үүрэг',\n",
       " 'үзэж',\n",
       " 'үзэх',\n",
       " 'үзэхэд',\n",
       " 'үзүүлэх',\n",
       " 'үйлдвэрлэлийг',\n",
       " 'үйлдэл',\n",
       " 'үйлчилгээ',\n",
       " 'үл',\n",
       " 'үлгэр',\n",
       " 'үлдсэн',\n",
       " 'үлдэх',\n",
       " 'үндсэн',\n",
       " 'эмнэлгийн',\n",
       " 'үнэ',\n",
       " 'үнэн',\n",
       " 'үнэнийг',\n",
       " 'үнэт',\n",
       " 'үнэхээр',\n",
       " 'үүнд',\n",
       " 'үүний',\n",
       " 'үүнийг',\n",
       " 'үүнтэй',\n",
       " 'үүнээс',\n",
       " 'үүргийг',\n",
       " 'үүргийн',\n",
       " 'үүргээ',\n",
       " 'үндэсний',\n",
       " 'хэрхэн',\n",
       " 'эзэн',\n",
       " 'хүссэн',\n",
       " 'хүсье',\n",
       " 'хүсэлт',\n",
       " 'хүсэлтээ',\n",
       " 'хүчин',\n",
       " 'хүчний',\n",
       " 'хүчтэй',\n",
       " 'хүү',\n",
       " 'хүүхэд',\n",
       " 'хөгжлийг',\n",
       " 'хөгжлийн',\n",
       " 'хөгжүүлэх',\n",
       " 'хөдөлгөөнийг',\n",
       " 'хөл',\n",
       " 'хөлбөмбөгийн',\n",
       " 'хөрөнгө',\n",
       " 'хөсүт',\n",
       " 'хөтөлбөр',\n",
       " 'хөтөлбөрийг',\n",
       " 'цаана',\n",
       " 'цаашид',\n",
       " 'цаг',\n",
       " 'цагаан',\n",
       " 'цагдаа',\n",
       " 'цагдаагийн',\n",
       " 'цагийн',\n",
       " 'цагт',\n",
       " 'хүрээнд',\n",
       " 'цар',\n",
       " 'хүрсэн',\n",
       " 'хүнээс',\n",
       " 'хэрэгжүүлж',\n",
       " 'хэрэгжүүлсэн',\n",
       " 'хэрэгжүүлэх',\n",
       " 'хэрэгсэл',\n",
       " 'хэрэгт',\n",
       " 'хэрэгтэй',\n",
       " 'хэсгийн',\n",
       " 'хэцүү',\n",
       " 'хяналт',\n",
       " 'хяналтад',\n",
       " 'хяналтын',\n",
       " 'хянан',\n",
       " 'хүлээлгэн',\n",
       " 'хүлээсэн',\n",
       " 'хүмүүс',\n",
       " 'хүмүүсийг',\n",
       " 'хүмүүсийн',\n",
       " 'хүмүүст',\n",
       " 'хүн',\n",
       " 'хүнд',\n",
       " 'хүндэтгэн',\n",
       " 'хүнийг',\n",
       " 'хүргүүлсэн',\n",
       " 'цахим',\n",
       " 'шатны',\n",
       " 'шийдвэр',\n",
       " 'шийдвэрийг',\n",
       " 'шийдвэрлэж',\n",
       " 'шийдвэрлэсэн',\n",
       " 'шийдвэрлэх',\n",
       " 'шилдэг',\n",
       " 'шилжүүлэх',\n",
       " 'шинж',\n",
       " 'шинжилгээ',\n",
       " 'шинжилгээний',\n",
       " 'шинэ',\n",
       " 'шинээр',\n",
       " 'ширхэг',\n",
       " 'шударга',\n",
       " 'шууд',\n",
       " 'шуурхай',\n",
       " 'шүүх',\n",
       " 'шүүхийн',\n",
       " 'шүүхэд',\n",
       " 'шүүхээс',\n",
       " 'эвсэл',\n",
       " 'эдгээр',\n",
       " 'эдийн',\n",
       " 'шат',\n",
       " 'шалтгаантай',\n",
       " 'шалтгаангүйгээр',\n",
       " 'шалтгаан',\n",
       " 'цуглуулах',\n",
       " 'цэвэр',\n",
       " 'цэргийн',\n",
       " 'цэрэг',\n",
       " 'цөөн',\n",
       " 'цөөнгүй',\n",
       " 'чадаж',\n",
       " 'чадалтай',\n",
       " 'чадахгүй',\n",
       " 'чаддаг',\n",
       " 'чадна',\n",
       " 'чиг',\n",
       " 'элчин',\n",
       " 'чиглэл',\n",
       " 'чин',\n",
       " 'чухал',\n",
       " 'чөлөөлж',\n",
       " 'чөлөөнд',\n",
       " 'чөлөөт',\n",
       " 'чөлөөтэй',\n",
       " 'шаардах',\n",
       " 'шаарддаг',\n",
       " 'шаардлага',\n",
       " 'шаардлагатай',\n",
       " 'шаардлагыг',\n",
       " 'шадар',\n",
       " 'шалгах',\n",
       " 'чиглэлээр',\n",
       " 'сонгож',\n",
       " 'сард',\n",
       " 'санхүүгийн',\n",
       " 'боломжийг',\n",
       " 'боломжтой',\n",
       " 'болоод',\n",
       " 'болохгүй',\n",
       " 'болохоор',\n",
       " 'болохыг',\n",
       " 'британийн',\n",
       " 'брэндийн',\n",
       " 'бундармаа',\n",
       " 'буруу',\n",
       " 'бусдаас',\n",
       " 'бусдыг',\n",
       " 'буурсан',\n",
       " 'бууруулах',\n",
       " 'бэлдэж',\n",
       " 'бэлтгэх',\n",
       " 'бэлэг',\n",
       " 'бэлэн',\n",
       " 'бээжингийн',\n",
       " 'бүгд',\n",
       " 'бүлийн',\n",
       " 'бүлэг',\n",
       " 'бүрийн',\n",
       " 'бүрт',\n",
       " 'бүтээгдэхүүн',\n",
       " 'бүтээл',\n",
       " 'боломжгүй',\n",
       " 'бүтээлч',\n",
       " 'боломж',\n",
       " 'болов',\n",
       " 'баримталж',\n",
       " 'барих',\n",
       " 'барьж',\n",
       " 'батлагдсан',\n",
       " 'батлах',\n",
       " 'баян',\n",
       " 'баянзүрх',\n",
       " 'бидний',\n",
       " 'биелүүлэх',\n",
       " 'биеэ',\n",
       " 'биз',\n",
       " 'бизнес',\n",
       " 'бизнесээ',\n",
       " 'бичлэг',\n",
       " 'бнхау',\n",
       " 'богино',\n",
       " 'боддог',\n",
       " 'бодлого',\n",
       " 'бодлогын',\n",
       " 'бодож',\n",
       " 'бодол',\n",
       " 'болгож',\n",
       " 'болгон',\n",
       " 'болгосон',\n",
       " 'болгох',\n",
       " 'болзошгүй',\n",
       " 'боловч',\n",
       " 'бүтээн',\n",
       " 'бүхний',\n",
       " 'бүхэн',\n",
       " 'даван',\n",
       " 'давж',\n",
       " 'давуу',\n",
       " 'давхар',\n",
       " 'дайн',\n",
       " 'дарга',\n",
       " 'даргын',\n",
       " 'даяар',\n",
       " 'ддамба',\n",
       " 'долоо',\n",
       " 'дор',\n",
       " 'дотор',\n",
       " 'дуртай',\n",
       " 'дутуу',\n",
       " 'дуусах',\n",
       " 'дуустал',\n",
       " 'дэглэм',\n",
       " 'дэлгүүр',\n",
       " 'дэлхий',\n",
       " 'дэлхийд',\n",
       " 'дэлхийн',\n",
       " 'дэмждэг',\n",
       " 'дэмжиж',\n",
       " 'дэмжих',\n",
       " 'дэх',\n",
       " 'даасан',\n",
       " 'гүтгэлэг',\n",
       " 'гүтгэж',\n",
       " 'гүйцэтгэх',\n",
       " 'бүхэндээ',\n",
       " 'вакцин',\n",
       " 'гадаад',\n",
       " 'гадна',\n",
       " 'газар',\n",
       " 'газраа',\n",
       " 'газраас',\n",
       " 'газрын',\n",
       " 'гарах',\n",
       " 'гаргах',\n",
       " 'гарсан',\n",
       " 'гарын',\n",
       " 'гишүүд',\n",
       " 'баримт',\n",
       " 'гишүүн',\n",
       " 'гсолтан',\n",
       " 'гуравдугаар',\n",
       " 'гурван',\n",
       " 'гэв',\n",
       " 'гэвч',\n",
       " 'гэвэл',\n",
       " 'гэдгээ',\n",
       " 'гэдэгт',\n",
       " 'гэмт',\n",
       " 'гэнэ',\n",
       " 'гэрээ',\n",
       " 'гэхэд',\n",
       " 'гол',\n",
       " 'дээр',\n",
       " 'барилгын',\n",
       " 'барааны',\n",
       " 'албанаас',\n",
       " 'албаны',\n",
       " 'алга',\n",
       " 'алдаа',\n",
       " 'алдаж',\n",
       " 'алхам',\n",
       " 'аль',\n",
       " 'ам',\n",
       " 'амжилттай',\n",
       " 'амны',\n",
       " 'амттай',\n",
       " 'амь',\n",
       " 'амьд',\n",
       " 'амьдарч',\n",
       " 'амьдрал',\n",
       " 'амьдралыг',\n",
       " 'амьдралын',\n",
       " 'амьдрах',\n",
       " 'амьтны',\n",
       " 'ангид',\n",
       " 'ангийн',\n",
       " 'андахгүй',\n",
       " 'ану',\n",
       " 'анх',\n",
       " 'анхаарах',\n",
       " 'анхан',\n",
       " 'албан',\n",
       " 'албадан',\n",
       " 'ii',\n",
       " 'iii',\n",
       " 'аас',\n",
       " 'аваад',\n",
       " 'авлигатай',\n",
       " 'авто',\n",
       " 'адил',\n",
       " 'ажил',\n",
       " 'ажилд',\n",
       " 'ажилдаа',\n",
       " 'ажиллагаа',\n",
       " 'ажиллагааг',\n",
       " 'ажиллагаагаа',\n",
       " 'ажиллагаанд',\n",
       " 'ажиллагааны',\n",
       " 'ажиллаж',\n",
       " 'ажилласан',\n",
       " 'ажиллах',\n",
       " 'ажилтан',\n",
       " 'ажилчид',\n",
       " 'ажлаа',\n",
       " 'ажлыг',\n",
       " 'ажлын',\n",
       " 'ажээ',\n",
       " 'аймгийн',\n",
       " 'алба',\n",
       " 'анхны',\n",
       " 'багш',\n",
       " 'байгаагаа',\n",
       " 'байгаад',\n",
       " 'байгуулалтын',\n",
       " 'байгууламж',\n",
       " 'байгуулах',\n",
       " 'байгуулахаар',\n",
       " 'байгуулж',\n",
       " 'байгууллага',\n",
       " 'байгууллагууд',\n",
       " 'байгууллагуудын',\n",
       " 'байгууллагын',\n",
       " 'байгуулсан',\n",
       " 'байдалд',\n",
       " 'байдлаар',\n",
       " 'байдлыг',\n",
       " 'байдлын',\n",
       " 'байлгах',\n",
       " 'байнгын',\n",
       " 'байршилд',\n",
       " 'байсныг',\n",
       " 'байхаар',\n",
       " 'байхад',\n",
       " 'байхдаа',\n",
       " 'байхыг',\n",
       " 'банк',\n",
       " 'багт',\n",
       " 'багийн',\n",
       " 'багатай',\n",
       " 'баг',\n",
       " 'араас',\n",
       " 'арван',\n",
       " 'арга',\n",
       " 'ард',\n",
       " 'ардчилсан',\n",
       " 'ардын',\n",
       " 'арилжааны',\n",
       " 'асуудал',\n",
       " 'асуудалд',\n",
       " 'асуудлыг',\n",
       " 'барилга',\n",
       " 'асууж',\n",
       " 'ахлах',\n",
       " 'ахуй',\n",
       " 'ахуйн',\n",
       " 'ачаа',\n",
       " 'ачаалал',\n",
       " 'ашиг',\n",
       " 'ашигтай',\n",
       " 'аюулгүй',\n",
       " 'аюултай',\n",
       " 'аяныг',\n",
       " 'асуулт',\n",
       " 'дээрх',\n",
       " 'дээрхи',\n",
       " 'дээрээ',\n",
       " 'мянган',\n",
       " 'мөнгө',\n",
       " 'мөнгөний',\n",
       " 'мөнгөтэй',\n",
       " 'мөрөөдөл',\n",
       " 'надад',\n",
       " 'нам',\n",
       " 'намайг',\n",
       " 'намын',\n",
       " 'нар',\n",
       " 'нарийн',\n",
       " 'нарт',\n",
       " 'нарыг',\n",
       " 'нарын',\n",
       " 'нас',\n",
       " 'насанд',\n",
       " 'насны',\n",
       " 'настай',\n",
       " 'нийгмийн',\n",
       " 'нийгэм',\n",
       " 'нийслэл',\n",
       " 'нийслэлийн',\n",
       " 'мянга',\n",
       " 'нийтийн',\n",
       " 'мэс',\n",
       " 'мэргэжилтэн',\n",
       " 'малчны',\n",
       " 'маргааныг',\n",
       " 'монгол',\n",
       " 'монголчууд',\n",
       " 'монголын',\n",
       " 'москва',\n",
       " 'муу',\n",
       " 'мэднэ',\n",
       " 'мэдэгдсэн',\n",
       " 'мэдэгдэл',\n",
       " 'мэдэгдэх',\n",
       " 'мэдэх',\n",
       " 'мэдэхгүй',\n",
       " 'мэдээ',\n",
       " 'мэдээллийг',\n",
       " 'мэдээллийн',\n",
       " 'мэдээллээ',\n",
       " 'мэдээлснээр',\n",
       " 'мэдээлэл',\n",
       " 'мэндийн',\n",
       " 'мэргэжлийн',\n",
       " 'нийтэд',\n",
       " 'нийцүүлэн',\n",
       " 'ногоон',\n",
       " 'орны',\n",
       " 'оролцох',\n",
       " 'оролцсон',\n",
       " 'оронд',\n",
       " 'орос',\n",
       " 'орох',\n",
       " 'орсон',\n",
       " 'оруулсан',\n",
       " 'орчим',\n",
       " 'орчин',\n",
       " 'орчинд',\n",
       " 'оху',\n",
       " 'очиж',\n",
       " 'очир',\n",
       " 'прокурорын',\n",
       " 'рүү',\n",
       " 'сайд',\n",
       " 'сайдын',\n",
       " 'сайжруулах',\n",
       " 'салбар',\n",
       " 'салбарт',\n",
       " 'салбарын',\n",
       " 'санаа',\n",
       " 'саналыг',\n",
       " 'онцгой',\n",
       " 'олох',\n",
       " 'олны',\n",
       " 'нотлох',\n",
       " 'нутаг',\n",
       " 'нутагт',\n",
       " 'нутгийн',\n",
       " 'нэгдсэн',\n",
       " 'нэгдүгээр',\n",
       " 'нэгж',\n",
       " 'нэгжид',\n",
       " 'нэгжийн',\n",
       " 'нэмэгдүүлэх',\n",
       " 'нэмэлт',\n",
       " 'нэртэй',\n",
       " 'мал',\n",
       " 'нээж',\n",
       " 'нөгөө',\n",
       " 'нөхцөл',\n",
       " 'нөөц',\n",
       " 'огцруулах',\n",
       " 'одоогийн',\n",
       " 'ойлгож',\n",
       " 'ойр',\n",
       " 'ойрын',\n",
       " 'олгож',\n",
       " 'олгосон',\n",
       " 'олж',\n",
       " 'нээлттэй',\n",
       " 'магадгүй',\n",
       " 'лэнхболд',\n",
       " 'лондоны',\n",
       " 'заасан',\n",
       " 'заасны',\n",
       " 'загвар',\n",
       " 'зай',\n",
       " 'зайлшгүй',\n",
       " 'зам',\n",
       " 'замдаа',\n",
       " 'замыг',\n",
       " 'замын',\n",
       " 'зарагддаг',\n",
       " 'зарж',\n",
       " 'зарчмыг',\n",
       " 'засаг',\n",
       " 'засгийн',\n",
       " 'заслын',\n",
       " 'зах',\n",
       " 'захирал',\n",
       " 'захиргааны',\n",
       " 'здтг',\n",
       " 'заалт',\n",
       " 'заавал',\n",
       " 'жишээ',\n",
       " 'жинхэнэ',\n",
       " 'дээрээс',\n",
       " 'дээш',\n",
       " 'дээшлүүлэх',\n",
       " 'дүгнэлт',\n",
       " 'дүгээр',\n",
       " 'дүн',\n",
       " 'дүнтэй',\n",
       " 'дүрэм',\n",
       " 'дүүргийн',\n",
       " 'ерөнхий',\n",
       " 'ерөнхийлөгч',\n",
       " 'ерөнхийлөгчийн',\n",
       " 'есөн',\n",
       " 'жижиг',\n",
       " 'жил',\n",
       " 'жилд',\n",
       " 'жилийн',\n",
       " 'дөрөвдүгээр',\n",
       " 'өөрөөр',\n",
       " 'зогсоох',\n",
       " 'зорилго',\n",
       " 'ингэж',\n",
       " 'иргэд',\n",
       " 'иргэдийг',\n",
       " 'иргэдийн',\n",
       " 'иргэдэд',\n",
       " 'иргэн',\n",
       " 'иргэний',\n",
       " 'иргэнийхээ',\n",
       " 'ирж',\n",
       " 'ирнэ',\n",
       " 'ирсэн',\n",
       " 'ирэх',\n",
       " 'ирээгүй',\n",
       " 'ирүүлсэн',\n",
       " 'ирүүлэх',\n",
       " 'итгэл',\n",
       " 'итгэлтэй',\n",
       " 'ихтэй',\n",
       " 'ковид',\n",
       " 'комисс',\n",
       " 'комисст',\n",
       " 'комиссын',\n",
       " 'компани',\n",
       " 'компанийн',\n",
       " 'коронавирус',\n",
       " 'коронавирусийн',\n",
       " 'коронавируст',\n",
       " 'илэрдэг',\n",
       " 'ил',\n",
       " 'ийнхүү',\n",
       " 'иймээс',\n",
       " 'зорилгоор',\n",
       " 'зорилт',\n",
       " 'зохион',\n",
       " 'зохицуулалтыг',\n",
       " 'зураг',\n",
       " 'зургадугаар',\n",
       " 'зургийн',\n",
       " 'зээл',\n",
       " 'зээлийн',\n",
       " 'зүгээс',\n",
       " 'зориг',\n",
       " 'зүй',\n",
       " 'зүтгэж',\n",
       " 'зүүн',\n",
       " 'зөв',\n",
       " 'зөвлөл',\n",
       " 'зөвлөлийн',\n",
       " 'зөвхөн',\n",
       " 'зөрчил',\n",
       " 'зөрчсөн',\n",
       " 'идсэн',\n",
       " 'идэж',\n",
       " 'ижил',\n",
       " 'иймд',\n",
       " 'зүйлийн']"
      ]
     },
     "execution_count": 40,
     "metadata": {},
     "output_type": "execute_result"
    }
   ],
   "source": [
    "unigrams"
   ]
  },
  {
   "cell_type": "code",
   "execution_count": 41,
   "metadata": {
    "colab": {
     "base_uri": "https://localhost:8080/",
     "height": 449
    },
    "colab_type": "code",
    "id": "FhleFGefyMmO",
    "outputId": "bfa62bc8-2785-4d02-a868-edddd06cda9b"
   },
   "outputs": [
    {
     "data": {
      "text/plain": [
       "['халдвараас урьдчилан сэргийлэх',\n",
       " 'халдварт өвчин судлалын',\n",
       " 'улсын хурлын гишүүн',\n",
       " 'хэргийн анхан шатны',\n",
       " 'улсын онцгой комисст',\n",
       " 'улсын онцгой комиссын',\n",
       " 'эрүүгийн хэргийн анхан',\n",
       " 'эрүүл мэндийн төв',\n",
       " 'өнгөрсөн долоо хоногт',\n",
       " 'хүндэтгэн үзэх шалтгаангүйгээр',\n",
       " 'анхан шатны шүүх',\n",
       " 'аюулгүй байдлыг хангах',\n",
       " 'нийслэлийн засаг дарга',\n",
       " 'нийслэлийн засаг даргын',\n",
       " 'нийслэлийн прокурорын газраас',\n",
       " 'монгол улсын засгийн',\n",
       " 'монгол улсын хурлын',\n",
       " 'захиргааны хэргийн анхан',\n",
       " 'дүүргийн засаг даргын',\n",
       " 'дүүргийн эрүүгийн хэргийн',\n",
       " 'ерөнхийлөгчийн тамгын газрын']"
      ]
     },
     "execution_count": 41,
     "metadata": {},
     "output_type": "execute_result"
    }
   ],
   "source": [
    "trigrams"
   ]
  }
 ],
 "metadata": {
  "accelerator": "GPU",
  "colab": {
   "name": "03. Feature Engineering.ipynb",
   "provenance": [],
   "toc_visible": true
  },
  "kernelspec": {
   "display_name": "Python 3",
   "language": "python",
   "name": "python3"
  },
  "language_info": {
   "codemirror_mode": {
    "name": "ipython",
    "version": 3
   },
   "file_extension": ".py",
   "mimetype": "text/x-python",
   "name": "python",
   "nbconvert_exporter": "python",
   "pygments_lexer": "ipython3",
   "version": "3.6.9"
  }
 },
 "nbformat": 4,
 "nbformat_minor": 4
}
